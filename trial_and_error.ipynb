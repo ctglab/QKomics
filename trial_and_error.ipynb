{
 "cells": [
  {
   "cell_type": "markdown",
   "metadata": {},
   "source": [
    "## Trial json file"
   ]
  },
  {
   "cell_type": "code",
   "execution_count": 27,
   "metadata": {},
   "outputs": [],
   "source": [
    "import json\n",
    "import pandas as pd"
   ]
  },
  {
   "cell_type": "code",
   "execution_count": 8,
   "metadata": {},
   "outputs": [
    {
     "name": "stdout",
     "output_type": "stream",
     "text": [
      "{'Data': {'Sampling_size': 1980, 'task': {'Supervised': {'classes': {'4_classes': [4, 5, 8, 10], '10_classes': [1, 2, 3, 4, 5, 6, 7, 8, 9, 10]}, 'tr_sz': 0.6, 'ts_sz': 0.4, 'balanced': 'True', 'min_sz': 70}}, 'Input_file': './Input_data/PCA_METABRIC_10cmp_IC10_full.csv', 'Output_dir': './Kernels_Results/'}, 'ft_maps': {'ft_map': ['ZZ', 'Z'], 'ent_type': ['linear', 'full'], 'n_reps': [1]}, 'Backend': {'shots': 2000, 'n_qubits': 4, 'backend': 'qasm_simulator', 'seed': 12345}, 'Scaling': {'bandwidth': [0.125, 0.25, 0.5, 1, 2]}}\n"
     ]
    }
   ],
   "source": [
    "# Python program to read\n",
    "# json file\n",
    " \n",
    "# Opening JSON file\n",
    "f = open('hyper_param.json')\n",
    " \n",
    "# returns JSON object as\n",
    "# a dictionary\n",
    "data = json.load(f)\n",
    " \n",
    "print(data)"
   ]
  },
  {
   "cell_type": "code",
   "execution_count": 22,
   "metadata": {},
   "outputs": [
    {
     "name": "stdout",
     "output_type": "stream",
     "text": [
      "Supervised\n"
     ]
    }
   ],
   "source": [
    "task=list(data['Data']['task'].keys())\n",
    "print(task[0])"
   ]
  },
  {
   "cell_type": "code",
   "execution_count": 24,
   "metadata": {},
   "outputs": [],
   "source": [
    "b=data['Data']['task'][task[0]]['balanced']\n"
   ]
  },
  {
   "cell_type": "code",
   "execution_count": 25,
   "metadata": {},
   "outputs": [
    {
     "name": "stdout",
     "output_type": "stream",
     "text": [
      "wew\n"
     ]
    }
   ],
   "source": [
    "if b:\n",
    "    print('wew')"
   ]
  },
  {
   "cell_type": "code",
   "execution_count": 30,
   "metadata": {},
   "outputs": [],
   "source": [
    "data_input = pd.read_csv(\"./Input_data/PCA_METABRIC_10cmp_IC10_full.csv\", sep = \",\")"
   ]
  },
  {
   "cell_type": "code",
   "execution_count": 32,
   "metadata": {},
   "outputs": [],
   "source": [
    "data_dict={}\n",
    "for case,class_ in data['Data'][\"task\"][task[0]]['classes'].items():\n",
    "    df_tot_sel=df_tot_sel=data_input.loc[data_input.IntClustMemb.isin(class_)]\n",
    "    data_dict[case]=df_tot_sel\n"
   ]
  },
  {
   "cell_type": "code",
   "execution_count": 33,
   "metadata": {},
   "outputs": [
    {
     "data": {
      "text/plain": [
       "dict_keys(['4_classes', '10_classes'])"
      ]
     },
     "execution_count": 33,
     "metadata": {},
     "output_type": "execute_result"
    }
   ],
   "source": [
    "data_dict.keys()"
   ]
  }
 ],
 "metadata": {
  "kernelspec": {
   "display_name": "daism",
   "language": "python",
   "name": "python3"
  },
  "language_info": {
   "codemirror_mode": {
    "name": "ipython",
    "version": 3
   },
   "file_extension": ".py",
   "mimetype": "text/x-python",
   "name": "python",
   "nbconvert_exporter": "python",
   "pygments_lexer": "ipython3",
   "version": "3.8.16"
  },
  "orig_nbformat": 4
 },
 "nbformat": 4,
 "nbformat_minor": 2
}
