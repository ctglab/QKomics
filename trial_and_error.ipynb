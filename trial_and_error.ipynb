{
 "cells": [
  {
   "cell_type": "markdown",
   "metadata": {},
   "source": [
    "## Trial json file"
   ]
  },
  {
   "cell_type": "code",
   "execution_count": 1,
   "metadata": {},
   "outputs": [],
   "source": [
    "import json"
   ]
  },
  {
   "cell_type": "code",
   "execution_count": 3,
   "metadata": {},
   "outputs": [
    {
     "name": "stdout",
     "output_type": "stream",
     "text": [
      "{'ft_maps': {'ft_map': ['ZZ', 'Z'], 'ent_type': ['linear', 'full'], 'n_reps': [1]}, 'Backend': {'shots': 2000, 'n_qubits': 4, 'backend': 'qasm_simulator', 'seed': 12345}, 'Scaling': {'bandwidth': [0.125, 0.25, 0.5, 1, 2]}}\n"
     ]
    }
   ],
   "source": [
    "# Python program to read\n",
    "# json file\n",
    " \n",
    "# Opening JSON file\n",
    "f = open('hyper_param.json')\n",
    " \n",
    "# returns JSON object as\n",
    "# a dictionary\n",
    "data = json.load(f)\n",
    " \n",
    "print(data)"
   ]
  }
 ],
 "metadata": {
  "kernelspec": {
   "display_name": "daism",
   "language": "python",
   "name": "python3"
  },
  "language_info": {
   "codemirror_mode": {
    "name": "ipython",
    "version": 3
   },
   "file_extension": ".py",
   "mimetype": "text/x-python",
   "name": "python",
   "nbconvert_exporter": "python",
   "pygments_lexer": "ipython3",
   "version": "3.8.16"
  },
  "orig_nbformat": 4
 },
 "nbformat": 4,
 "nbformat_minor": 2
}
