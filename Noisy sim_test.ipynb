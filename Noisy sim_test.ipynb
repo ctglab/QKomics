{
 "cells": [
  {
   "cell_type": "code",
   "execution_count": 1,
   "metadata": {},
   "outputs": [],
   "source": [
    "from qiskit.transpiler.preset_passmanagers import generate_preset_pass_manager\n",
    "from qiskit.visualization import *\n",
    "# Importing standard Qiskit libraries and configuring account\n",
    "from qiskit_ibm_runtime import QiskitRuntimeService, Options\n",
    "#import qiskit_ibm_runtime \n",
    "from qiskit.primitives import Sampler as Sampler_2\n",
    "#from qiskit.providers.fake_provider import FakeMumbaiV2\n",
    "from qiskit_aer.primitives import Sampler\n",
    "#from qiskit.utils import algorithm_globals\n",
    "#Load feature maps\n",
    "from qiskit_aer import AerSimulator\n",
    "from qiskit_aer.noise import NoiseModel\n",
    "from qiskit.circuit.library import ZZFeatureMap\n",
    "from qiskit_algorithms.state_fidelities import ComputeUncompute\n",
    "#from Kernels.src.ComputeUncompute import ComputeUncompute\n",
    "from Kernels.src.ComputeUncompute_2 import ComputeUncompute_2\n",
    "from qiskit_machine_learning.kernels import FidelityQuantumKernel\n",
    "\n",
    "import numpy as np\n",
    "\n",
    "from sklearn.preprocessing import MinMaxScaler"
   ]
  },
  {
   "cell_type": "code",
   "execution_count": 2,
   "metadata": {},
   "outputs": [
    {
     "name": "stdout",
     "output_type": "stream",
     "text": [
      "Loading IBM Quantum account\n",
      "selecting backend\n",
      "AerSimulator(''aer_simulator(ibm_cairo)'\n",
      "             noise_model=<NoiseModel on ['measure', 'x', 'reset', 'sx', 'cx', 'id']>)\n"
     ]
    }
   ],
   "source": [
    "########################QUANTUM SESSION#########################################################\n",
    "# Loading your IBM Quantum account(s)\n",
    "print('Loading IBM Quantum account')\n",
    "# Loading your IBM Quantum account(s)\n",
    "service=QiskitRuntimeService(channel=\"ibm_quantum\",token=\"95e70510a429e03c7cc4ce4c5c979c794135dbacffbebe5325dcd8b627cfe42c9f61e91945ba1adea992f81849c74cc5e0ed1ab93977db5084dd26a28fd25dd8\")\n",
    "print('selecting backend')\n",
    "#backend = service.get_backend('ibmq_qasm_simulator')\n",
    "backend_or=service.least_busy(operational=True, simulator=False)\n",
    "#backend=FakeMumbaiV2()\n",
    "noise_model = NoiseModel.from_backend(backend_or)\n",
    "backend=AerSimulator.from_backend(backend_or)\n",
    "\n",
    "print(backend)\n",
    "target = backend.target\n",
    "coupling_map = target.build_coupling_map()"
   ]
  },
  {
   "cell_type": "code",
   "execution_count": 3,
   "metadata": {},
   "outputs": [
    {
     "name": "stdout",
     "output_type": "stream",
     "text": [
      "FT map instance\n",
      "transpile circuit\n"
     ]
    },
    {
     "name": "stdout",
     "output_type": "stream",
     "text": [
      "<class 'qiskit.transpiler.passmanager.StagedPassManager'>\n"
     ]
    }
   ],
   "source": [
    "print('FT map instance')\n",
    "#Instance FTMAP\n",
    "n_qubits=4\n",
    "reps=1\n",
    "ft_map = ZZFeatureMap(feature_dimension=n_qubits, reps=1)\n",
    "\n",
    "#transpile circuit\n",
    "print('transpile circuit')\n",
    "pm=generate_preset_pass_manager(backend=backend,optimization_level=1)\n",
    "print(type(pm))\n",
    "ft_map_t_qs = pm.run(ft_map)"
   ]
  },
  {
   "cell_type": "code",
   "execution_count": 4,
   "metadata": {},
   "outputs": [],
   "source": [
    "#Generate sample data\n",
    "X_train=np.random.rand(10,4)\n",
    "\n",
    "scaler = MinMaxScaler(feature_range=(0, 1*np.pi))\n",
    "scaler.fit(X_train)\n",
    "X_train_scaled = scaler.transform(X_train)"
   ]
  },
  {
   "cell_type": "code",
   "execution_count": 6,
   "metadata": {},
   "outputs": [],
   "source": [
    "\n",
    "# Create a quantum kernel based on the transpiled feature map\n",
    "#Set Primitive sampler\n",
    "sampler = Sampler(backend_options={\"noise_model\": noise_model, \"shots\": 2000, \"seed_simulator\":42})\n",
    "\n",
    "sampler_2 = Sampler_2(options={\"noise_model\": noise_model, \"shots\": 2000, \"seed_simulator\":42})"
   ]
  },
  {
   "cell_type": "markdown",
   "metadata": {},
   "source": []
  },
  {
   "cell_type": "markdown",
   "metadata": {},
   "source": [
    "### Run as fidelity kernel"
   ]
  },
  {
   "cell_type": "code",
   "execution_count": 8,
   "metadata": {},
   "outputs": [
    {
     "name": "stdout",
     "output_type": "stream",
     "text": [
      "Run as fidelity kernel normal way\n"
     ]
    }
   ],
   "source": [
    "print('Run as fidelity kernel normal way')\n",
    "fidelity = ComputeUncompute(sampler=sampler)\n",
    "fidelity_2=ComputeUncompute(sampler=sampler_2)\n"
   ]
  },
  {
   "cell_type": "code",
   "execution_count": 9,
   "metadata": {},
   "outputs": [
    {
     "ename": "KeyboardInterrupt",
     "evalue": "",
     "output_type": "error",
     "traceback": [
      "\u001b[0;31m---------------------------------------------------------------------------\u001b[0m",
      "\u001b[0;31mKeyboardInterrupt\u001b[0m                         Traceback (most recent call last)",
      "\u001b[1;32m/CTGlab/home/valeria/Quantum-Machine-Learning-for-Expression-Data/Noisy sim_test.ipynb Cell 9\u001b[0m line \u001b[0;36m2\n\u001b[1;32m      <a href='vscode-notebook-cell://ssh-remote%2Bjess.iit.cnr.it/CTGlab/home/valeria/Quantum-Machine-Learning-for-Expression-Data/Noisy%20sim_test.ipynb#X11sdnNjb2RlLXJlbW90ZQ%3D%3D?line=0'>1</a>\u001b[0m qk\u001b[39m=\u001b[39mFidelityQuantumKernel(feature_map\u001b[39m=\u001b[39mft_map_t_qs,fidelity\u001b[39m=\u001b[39mfidelity_2)\n\u001b[0;32m----> <a href='vscode-notebook-cell://ssh-remote%2Bjess.iit.cnr.it/CTGlab/home/valeria/Quantum-Machine-Learning-for-Expression-Data/Noisy%20sim_test.ipynb#X11sdnNjb2RlLXJlbW90ZQ%3D%3D?line=1'>2</a>\u001b[0m qk\u001b[39m.\u001b[39;49mevaluate(X_train_scaled)\n",
      "File \u001b[0;32m~/miniconda3/envs/qiskit-buona/lib/python3.10/site-packages/qiskit_machine_learning/kernels/fidelity_quantum_kernel.py:106\u001b[0m, in \u001b[0;36mFidelityQuantumKernel.evaluate\u001b[0;34m(self, x_vec, y_vec)\u001b[0m\n\u001b[1;32m    104\u001b[0m \u001b[39mif\u001b[39;00m is_symmetric:\n\u001b[1;32m    105\u001b[0m     left_parameters, right_parameters, indices \u001b[39m=\u001b[39m \u001b[39mself\u001b[39m\u001b[39m.\u001b[39m_get_symmetric_parameterization(x_vec)\n\u001b[0;32m--> 106\u001b[0m     kernel_matrix \u001b[39m=\u001b[39m \u001b[39mself\u001b[39;49m\u001b[39m.\u001b[39;49m_get_symmetric_kernel_matrix(\n\u001b[1;32m    107\u001b[0m         kernel_shape, left_parameters, right_parameters, indices\n\u001b[1;32m    108\u001b[0m     )\n\u001b[1;32m    109\u001b[0m \u001b[39melse\u001b[39;00m:\n\u001b[1;32m    110\u001b[0m     left_parameters, right_parameters, indices \u001b[39m=\u001b[39m \u001b[39mself\u001b[39m\u001b[39m.\u001b[39m_get_parameterization(x_vec, y_vec)\n",
      "File \u001b[0;32m~/miniconda3/envs/qiskit-buona/lib/python3.10/site-packages/qiskit_machine_learning/kernels/fidelity_quantum_kernel.py:194\u001b[0m, in \u001b[0;36mFidelityQuantumKernel._get_symmetric_kernel_matrix\u001b[0;34m(self, kernel_shape, left_parameters, right_parameters, indices)\u001b[0m\n\u001b[1;32m    184\u001b[0m \u001b[39mdef\u001b[39;00m \u001b[39m_get_symmetric_kernel_matrix\u001b[39m(\n\u001b[1;32m    185\u001b[0m     \u001b[39mself\u001b[39m,\n\u001b[1;32m    186\u001b[0m     kernel_shape: \u001b[39mtuple\u001b[39m[\u001b[39mint\u001b[39m, \u001b[39mint\u001b[39m],\n\u001b[0;32m   (...)\u001b[0m\n\u001b[1;32m    189\u001b[0m     indices: KernelIndices,\n\u001b[1;32m    190\u001b[0m ) \u001b[39m-\u001b[39m\u001b[39m>\u001b[39m np\u001b[39m.\u001b[39mndarray:\n\u001b[1;32m    191\u001b[0m \u001b[39m    \u001b[39m\u001b[39m\"\"\"\u001b[39;00m\n\u001b[1;32m    192\u001b[0m \u001b[39m    Given a set of parameterization, this computes the kernel matrix.\u001b[39;00m\n\u001b[1;32m    193\u001b[0m \u001b[39m    \"\"\"\u001b[39;00m\n\u001b[0;32m--> 194\u001b[0m     kernel_entries \u001b[39m=\u001b[39m \u001b[39mself\u001b[39;49m\u001b[39m.\u001b[39;49m_get_kernel_entries(left_parameters, right_parameters)\n\u001b[1;32m    195\u001b[0m     kernel_matrix \u001b[39m=\u001b[39m np\u001b[39m.\u001b[39mones(kernel_shape)\n\u001b[1;32m    197\u001b[0m     \u001b[39mfor\u001b[39;00m i, (col, row) \u001b[39min\u001b[39;00m \u001b[39menumerate\u001b[39m(indices):\n",
      "File \u001b[0;32m~/miniconda3/envs/qiskit-buona/lib/python3.10/site-packages/qiskit_machine_learning/kernels/fidelity_quantum_kernel.py:218\u001b[0m, in \u001b[0;36mFidelityQuantumKernel._get_kernel_entries\u001b[0;34m(self, left_parameters, right_parameters)\u001b[0m\n\u001b[1;32m    211\u001b[0m \u001b[39mif\u001b[39;00m num_circuits \u001b[39m!=\u001b[39m \u001b[39m0\u001b[39m:\n\u001b[1;32m    212\u001b[0m     job \u001b[39m=\u001b[39m \u001b[39mself\u001b[39m\u001b[39m.\u001b[39m_fidelity\u001b[39m.\u001b[39mrun(\n\u001b[1;32m    213\u001b[0m         [\u001b[39mself\u001b[39m\u001b[39m.\u001b[39m_feature_map] \u001b[39m*\u001b[39m num_circuits,\n\u001b[1;32m    214\u001b[0m         [\u001b[39mself\u001b[39m\u001b[39m.\u001b[39m_feature_map] \u001b[39m*\u001b[39m num_circuits,\n\u001b[1;32m    215\u001b[0m         left_parameters,\n\u001b[1;32m    216\u001b[0m         right_parameters,\n\u001b[1;32m    217\u001b[0m     )\n\u001b[0;32m--> 218\u001b[0m     kernel_entries \u001b[39m=\u001b[39m job\u001b[39m.\u001b[39;49mresult()\u001b[39m.\u001b[39mfidelities\n\u001b[1;32m    219\u001b[0m \u001b[39melse\u001b[39;00m:\n\u001b[1;32m    220\u001b[0m     \u001b[39m# trivial case, only identical samples\u001b[39;00m\n\u001b[1;32m    221\u001b[0m     kernel_entries \u001b[39m=\u001b[39m []\n",
      "File \u001b[0;32m~/miniconda3/envs/qiskit-buona/lib/python3.10/site-packages/qiskit/primitives/primitive_job.py:55\u001b[0m, in \u001b[0;36mPrimitiveJob.result\u001b[0;34m(self)\u001b[0m\n\u001b[1;32m     53\u001b[0m \u001b[39m\u001b[39m\u001b[39m\"\"\"Return the results of the job.\"\"\"\u001b[39;00m\n\u001b[1;32m     54\u001b[0m \u001b[39mself\u001b[39m\u001b[39m.\u001b[39m_check_submitted()\n\u001b[0;32m---> 55\u001b[0m \u001b[39mreturn\u001b[39;00m \u001b[39mself\u001b[39;49m\u001b[39m.\u001b[39;49m_future\u001b[39m.\u001b[39;49mresult()\n",
      "File \u001b[0;32m~/miniconda3/envs/qiskit-buona/lib/python3.10/concurrent/futures/_base.py:440\u001b[0m, in \u001b[0;36mFuture.result\u001b[0;34m(self, timeout)\u001b[0m\n\u001b[1;32m    437\u001b[0m \u001b[39melif\u001b[39;00m \u001b[39mself\u001b[39m\u001b[39m.\u001b[39m_state \u001b[39m==\u001b[39m FINISHED:\n\u001b[1;32m    438\u001b[0m     \u001b[39mreturn\u001b[39;00m \u001b[39mself\u001b[39m\u001b[39m.\u001b[39m__get_result()\n\u001b[0;32m--> 440\u001b[0m \u001b[39mself\u001b[39;49m\u001b[39m.\u001b[39;49m_condition\u001b[39m.\u001b[39;49mwait(timeout)\n\u001b[1;32m    442\u001b[0m \u001b[39mif\u001b[39;00m \u001b[39mself\u001b[39m\u001b[39m.\u001b[39m_state \u001b[39min\u001b[39;00m [CANCELLED, CANCELLED_AND_NOTIFIED]:\n\u001b[1;32m    443\u001b[0m     \u001b[39mraise\u001b[39;00m CancelledError()\n",
      "File \u001b[0;32m~/miniconda3/envs/qiskit-buona/lib/python3.10/threading.py:320\u001b[0m, in \u001b[0;36mCondition.wait\u001b[0;34m(self, timeout)\u001b[0m\n\u001b[1;32m    318\u001b[0m \u001b[39mtry\u001b[39;00m:    \u001b[39m# restore state no matter what (e.g., KeyboardInterrupt)\u001b[39;00m\n\u001b[1;32m    319\u001b[0m     \u001b[39mif\u001b[39;00m timeout \u001b[39mis\u001b[39;00m \u001b[39mNone\u001b[39;00m:\n\u001b[0;32m--> 320\u001b[0m         waiter\u001b[39m.\u001b[39;49macquire()\n\u001b[1;32m    321\u001b[0m         gotit \u001b[39m=\u001b[39m \u001b[39mTrue\u001b[39;00m\n\u001b[1;32m    322\u001b[0m     \u001b[39melse\u001b[39;00m:\n",
      "\u001b[0;31mKeyboardInterrupt\u001b[0m: "
     ]
    }
   ],
   "source": [
    "qk=FidelityQuantumKernel(feature_map=ft_map_t_qs,fidelity=fidelity_2)\n",
    "qk.evaluate(X_train_scaled)"
   ]
  },
  {
   "cell_type": "code",
   "execution_count": null,
   "metadata": {},
   "outputs": [],
   "source": [
    "qk=FidelityQuantumKernel(feature_map=ft_map_t_qs,fidelity=fidelity)\n",
    "qk.evaluate(X_train_scaled)"
   ]
  }
 ],
 "metadata": {
  "kernelspec": {
   "display_name": "qiskit-buona",
   "language": "python",
   "name": "python3"
  },
  "language_info": {
   "codemirror_mode": {
    "name": "ipython",
    "version": 3
   },
   "file_extension": ".py",
   "mimetype": "text/x-python",
   "name": "python",
   "nbconvert_exporter": "python",
   "pygments_lexer": "ipython3",
   "version": "3.10.0"
  }
 },
 "nbformat": 4,
 "nbformat_minor": 2
}
