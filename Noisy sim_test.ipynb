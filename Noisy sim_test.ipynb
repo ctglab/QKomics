{
 "cells": [
  {
   "cell_type": "code",
   "execution_count": 1,
   "metadata": {},
   "outputs": [],
   "source": [
    "from qiskit.transpiler.preset_passmanagers import generate_preset_pass_manager\n",
    "from qiskit.visualization import *\n",
    "# Importing standard Qiskit libraries and configuring account\n",
    "from qiskit_ibm_runtime import QiskitRuntimeService, Options\n",
    "#import qiskit_ibm_runtime \n",
    "from qiskit.primitives import Sampler as Sampler_2\n",
    "#from qiskit.providers.fake_provider import FakeMumbaiV2\n",
    "from qiskit_aer.primitives import Sampler\n",
    "#from qiskit.utils import algorithm_globals\n",
    "#Load feature maps\n",
    "from qiskit_aer import AerSimulator\n",
    "from qiskit_aer.noise import NoiseModel\n",
    "from qiskit.circuit.library import ZZFeatureMap\n",
    "from qiskit_algorithms.state_fidelities import ComputeUncompute\n",
    "#from Kernels.src.ComputeUncompute import ComputeUncompute\n",
    "from Kernels.src.ComputeUncompute_2 import ComputeUncompute_2\n",
    "from qiskit_machine_learning.kernels import FidelityQuantumKernel\n",
    "\n",
    "import numpy as np\n",
    "\n",
    "from sklearn.preprocessing import MinMaxScaler"
   ]
  },
  {
   "cell_type": "code",
   "execution_count": 2,
   "metadata": {},
   "outputs": [
    {
     "name": "stdout",
     "output_type": "stream",
     "text": [
      "Loading IBM Quantum account\n",
      "selecting backend\n",
      "AerSimulator(''aer_simulator(ibm_nazca)'\n",
      "             noise_model=<NoiseModel on ['measure', 'ecr', 'x', 'reset', 'sx', 'id']>)\n"
     ]
    }
   ],
   "source": [
    "########################QUANTUM SESSION#########################################################\n",
    "# Loading your IBM Quantum account(s)\n",
    "print('Loading IBM Quantum account')\n",
    "# Loading your IBM Quantum account(s)\n",
    "service=QiskitRuntimeService(channel=\"ibm_quantum\",token=\"95e70510a429e03c7cc4ce4c5c979c794135dbacffbebe5325dcd8b627cfe42c9f61e91945ba1adea992f81849c74cc5e0ed1ab93977db5084dd26a28fd25dd8\")\n",
    "print('selecting backend')\n",
    "#backend = service.get_backend('ibmq_qasm_simulator')\n",
    "backend_or=service.least_busy(operational=True, simulator=False)\n",
    "#backend=FakeMumbaiV2()\n",
    "noise_model = NoiseModel.from_backend(backend_or)\n",
    "backend=AerSimulator.from_backend(backend_or)\n",
    "\n",
    "print(backend)\n",
    "target = backend.target\n",
    "coupling_map = target.build_coupling_map()"
   ]
  },
  {
   "cell_type": "code",
   "execution_count": 3,
   "metadata": {},
   "outputs": [
    {
     "name": "stdout",
     "output_type": "stream",
     "text": [
      "FT map instance\n",
      "transpile circuit\n"
     ]
    },
    {
     "name": "stdout",
     "output_type": "stream",
     "text": [
      "<class 'qiskit.transpiler.passmanager.StagedPassManager'>\n"
     ]
    }
   ],
   "source": [
    "print('FT map instance')\n",
    "#Instance FTMAP\n",
    "n_qubits=4\n",
    "reps=1\n",
    "ft_map = ZZFeatureMap(feature_dimension=n_qubits, reps=1)\n",
    "\n",
    "#transpile circuit\n",
    "print('transpile circuit')\n",
    "pm=generate_preset_pass_manager(backend=backend,optimization_level=1)\n",
    "print(type(pm))\n",
    "ft_map_t_qs = pm.run(ft_map)"
   ]
  },
  {
   "cell_type": "code",
   "execution_count": 4,
   "metadata": {},
   "outputs": [],
   "source": [
    "#Generate sample data\n",
    "X_train=np.random.rand(10,4)\n",
    "\n",
    "scaler = MinMaxScaler(feature_range=(0, 1*np.pi))\n",
    "scaler.fit(X_train)\n",
    "X_train_scaled = scaler.transform(X_train)"
   ]
  },
  {
   "cell_type": "code",
   "execution_count": 5,
   "metadata": {},
   "outputs": [],
   "source": [
    "\n",
    "# Create a quantum kernel based on the transpiled feature map\n",
    "#Set Primitive sampler\n",
    "sampler = Sampler(backend_options={\"noise_model\": noise_model, \"shots\": 2000, \"seed_simulator\":42})\n",
    "\n",
    "sampler_2 = Sampler_2(options={\"noise_model\": noise_model, \"shots\": 2000, \"seed_simulator\":42})"
   ]
  },
  {
   "cell_type": "markdown",
   "metadata": {},
   "source": []
  },
  {
   "cell_type": "markdown",
   "metadata": {},
   "source": [
    "### Run as fidelity kernel"
   ]
  },
  {
   "cell_type": "code",
   "execution_count": 6,
   "metadata": {},
   "outputs": [
    {
     "name": "stdout",
     "output_type": "stream",
     "text": [
      "Run as fidelity kernel normal way\n"
     ]
    }
   ],
   "source": [
    "print('Run as fidelity kernel normal way')\n",
    "fidelity = ComputeUncompute(sampler=sampler)\n",
    "fidelity_2=ComputeUncompute(sampler=sampler_2)\n"
   ]
  },
  {
   "cell_type": "code",
   "execution_count": 7,
   "metadata": {},
   "outputs": [
    {
     "ename": "AlgorithmError",
     "evalue": "'Sampler job failed!'",
     "output_type": "error",
     "traceback": [
      "\u001b[0;31m---------------------------------------------------------------------------\u001b[0m",
      "\u001b[0;31mValueError\u001b[0m                                Traceback (most recent call last)",
      "File \u001b[0;32m~/miniconda3/envs/qiskit-buona/lib/python3.10/site-packages/qiskit_algorithms/state_fidelities/compute_uncompute.py:170\u001b[0m, in \u001b[0;36mComputeUncompute._call\u001b[0;34m(job, circuits, local, local_opts)\u001b[0m\n\u001b[1;32m    169\u001b[0m \u001b[39mtry\u001b[39;00m:\n\u001b[0;32m--> 170\u001b[0m     result \u001b[39m=\u001b[39m job\u001b[39m.\u001b[39;49mresult()\n\u001b[1;32m    171\u001b[0m \u001b[39mexcept\u001b[39;00m \u001b[39mException\u001b[39;00m \u001b[39mas\u001b[39;00m exc:\n",
      "File \u001b[0;32m~/miniconda3/envs/qiskit-buona/lib/python3.10/site-packages/qiskit/primitives/primitive_job.py:55\u001b[0m, in \u001b[0;36mPrimitiveJob.result\u001b[0;34m(self)\u001b[0m\n\u001b[1;32m     54\u001b[0m \u001b[39mself\u001b[39m\u001b[39m.\u001b[39m_check_submitted()\n\u001b[0;32m---> 55\u001b[0m \u001b[39mreturn\u001b[39;00m \u001b[39mself\u001b[39;49m\u001b[39m.\u001b[39;49m_future\u001b[39m.\u001b[39;49mresult()\n",
      "File \u001b[0;32m~/miniconda3/envs/qiskit-buona/lib/python3.10/concurrent/futures/_base.py:445\u001b[0m, in \u001b[0;36mFuture.result\u001b[0;34m(self, timeout)\u001b[0m\n\u001b[1;32m    444\u001b[0m \u001b[39melif\u001b[39;00m \u001b[39mself\u001b[39m\u001b[39m.\u001b[39m_state \u001b[39m==\u001b[39m FINISHED:\n\u001b[0;32m--> 445\u001b[0m     \u001b[39mreturn\u001b[39;00m \u001b[39mself\u001b[39;49m\u001b[39m.\u001b[39;49m__get_result()\n\u001b[1;32m    446\u001b[0m \u001b[39melse\u001b[39;00m:\n",
      "File \u001b[0;32m~/miniconda3/envs/qiskit-buona/lib/python3.10/concurrent/futures/_base.py:390\u001b[0m, in \u001b[0;36mFuture.__get_result\u001b[0;34m(self)\u001b[0m\n\u001b[1;32m    389\u001b[0m \u001b[39mtry\u001b[39;00m:\n\u001b[0;32m--> 390\u001b[0m     \u001b[39mraise\u001b[39;00m \u001b[39mself\u001b[39m\u001b[39m.\u001b[39m_exception\n\u001b[1;32m    391\u001b[0m \u001b[39mfinally\u001b[39;00m:\n\u001b[1;32m    392\u001b[0m     \u001b[39m# Break a reference cycle with the exception in self._exception\u001b[39;00m\n",
      "File \u001b[0;32m~/miniconda3/envs/qiskit-buona/lib/python3.10/concurrent/futures/thread.py:52\u001b[0m, in \u001b[0;36m_WorkItem.run\u001b[0;34m(self)\u001b[0m\n\u001b[1;32m     51\u001b[0m \u001b[39mtry\u001b[39;00m:\n\u001b[0;32m---> 52\u001b[0m     result \u001b[39m=\u001b[39m \u001b[39mself\u001b[39;49m\u001b[39m.\u001b[39;49mfn(\u001b[39m*\u001b[39;49m\u001b[39mself\u001b[39;49m\u001b[39m.\u001b[39;49margs, \u001b[39m*\u001b[39;49m\u001b[39m*\u001b[39;49m\u001b[39mself\u001b[39;49m\u001b[39m.\u001b[39;49mkwargs)\n\u001b[1;32m     53\u001b[0m \u001b[39mexcept\u001b[39;00m \u001b[39mBaseException\u001b[39;00m \u001b[39mas\u001b[39;00m exc:\n",
      "File \u001b[0;32m~/miniconda3/envs/qiskit-buona/lib/python3.10/site-packages/qiskit/primitives/sampler.py:99\u001b[0m, in \u001b[0;36mSampler._call\u001b[0;34m(self, circuits, parameter_values, **run_options)\u001b[0m\n\u001b[1;32m     98\u001b[0m     qargs_list\u001b[39m.\u001b[39mappend(\u001b[39mself\u001b[39m\u001b[39m.\u001b[39m_qargs_list[i])\n\u001b[0;32m---> 99\u001b[0m probabilities \u001b[39m=\u001b[39m [\n\u001b[1;32m    100\u001b[0m     Statevector(bound_circuit_to_instruction(circ))\u001b[39m.\u001b[39mprobabilities_dict(\n\u001b[1;32m    101\u001b[0m         qargs\u001b[39m=\u001b[39mqargs, decimals\u001b[39m=\u001b[39m\u001b[39m16\u001b[39m\n\u001b[1;32m    102\u001b[0m     )\n\u001b[1;32m    103\u001b[0m     \u001b[39mfor\u001b[39;00m circ, qargs \u001b[39min\u001b[39;00m \u001b[39mzip\u001b[39m(bound_circuits, qargs_list)\n\u001b[1;32m    104\u001b[0m ]\n\u001b[1;32m    105\u001b[0m \u001b[39mif\u001b[39;00m shots \u001b[39mis\u001b[39;00m \u001b[39mnot\u001b[39;00m \u001b[39mNone\u001b[39;00m:\n",
      "File \u001b[0;32m~/miniconda3/envs/qiskit-buona/lib/python3.10/site-packages/qiskit/primitives/sampler.py:100\u001b[0m, in \u001b[0;36m<listcomp>\u001b[0;34m(.0)\u001b[0m\n\u001b[1;32m     98\u001b[0m     qargs_list\u001b[39m.\u001b[39mappend(\u001b[39mself\u001b[39m\u001b[39m.\u001b[39m_qargs_list[i])\n\u001b[1;32m     99\u001b[0m probabilities \u001b[39m=\u001b[39m [\n\u001b[0;32m--> 100\u001b[0m     Statevector(bound_circuit_to_instruction(circ))\u001b[39m.\u001b[39mprobabilities_dict(\n\u001b[1;32m    101\u001b[0m         qargs\u001b[39m=\u001b[39mqargs, decimals\u001b[39m=\u001b[39m\u001b[39m16\u001b[39m\n\u001b[1;32m    102\u001b[0m     )\n\u001b[1;32m    103\u001b[0m     \u001b[39mfor\u001b[39;00m circ, qargs \u001b[39min\u001b[39;00m \u001b[39mzip\u001b[39m(bound_circuits, qargs_list)\n\u001b[1;32m    104\u001b[0m ]\n\u001b[1;32m    105\u001b[0m \u001b[39mif\u001b[39;00m shots \u001b[39mis\u001b[39;00m \u001b[39mnot\u001b[39;00m \u001b[39mNone\u001b[39;00m:\n",
      "File \u001b[0;32m~/miniconda3/envs/qiskit-buona/lib/python3.10/site-packages/qiskit/quantum_info/states/statevector.py:91\u001b[0m, in \u001b[0;36mStatevector.__init__\u001b[0;34m(self, data, dims)\u001b[0m\n\u001b[1;32m     90\u001b[0m \u001b[39melif\u001b[39;00m \u001b[39misinstance\u001b[39m(data, (QuantumCircuit, Instruction)):\n\u001b[0;32m---> 91\u001b[0m     \u001b[39mself\u001b[39m\u001b[39m.\u001b[39m_data \u001b[39m=\u001b[39m Statevector\u001b[39m.\u001b[39;49mfrom_instruction(data)\u001b[39m.\u001b[39mdata\n\u001b[1;32m     92\u001b[0m \u001b[39melse\u001b[39;00m:\n",
      "File \u001b[0;32m~/miniconda3/envs/qiskit-buona/lib/python3.10/site-packages/qiskit/quantum_info/states/statevector.py:765\u001b[0m, in \u001b[0;36mStatevector.from_instruction\u001b[0;34m(cls, instruction)\u001b[0m\n\u001b[1;32m    764\u001b[0m \u001b[39m# Initialize an the statevector in the all |0> state\u001b[39;00m\n\u001b[0;32m--> 765\u001b[0m init \u001b[39m=\u001b[39m np\u001b[39m.\u001b[39;49mzeros(\u001b[39m2\u001b[39;49m\u001b[39m*\u001b[39;49m\u001b[39m*\u001b[39;49minstruction\u001b[39m.\u001b[39;49mnum_qubits, dtype\u001b[39m=\u001b[39;49m\u001b[39mcomplex\u001b[39;49m)\n\u001b[1;32m    766\u001b[0m init[\u001b[39m0\u001b[39m] \u001b[39m=\u001b[39m \u001b[39m1.0\u001b[39m\n",
      "\u001b[0;31mValueError\u001b[0m: Maximum allowed dimension exceeded",
      "\nThe above exception was the direct cause of the following exception:\n",
      "\u001b[0;31mAlgorithmError\u001b[0m                            Traceback (most recent call last)",
      "\u001b[1;32m/CTGlab/home/valeria/Quantum-Machine-Learning-for-Expression-Data/Noisy sim_test.ipynb Cell 9\u001b[0m line \u001b[0;36m2\n\u001b[1;32m      <a href='vscode-notebook-cell://ssh-remote%2Bjess.iit.cnr.it/CTGlab/home/valeria/Quantum-Machine-Learning-for-Expression-Data/Noisy%20sim_test.ipynb#X11sdnNjb2RlLXJlbW90ZQ%3D%3D?line=0'>1</a>\u001b[0m qk\u001b[39m=\u001b[39mFidelityQuantumKernel(feature_map\u001b[39m=\u001b[39mft_map_t_qs,fidelity\u001b[39m=\u001b[39mfidelity_2)\n\u001b[0;32m----> <a href='vscode-notebook-cell://ssh-remote%2Bjess.iit.cnr.it/CTGlab/home/valeria/Quantum-Machine-Learning-for-Expression-Data/Noisy%20sim_test.ipynb#X11sdnNjb2RlLXJlbW90ZQ%3D%3D?line=1'>2</a>\u001b[0m qk\u001b[39m.\u001b[39;49mevaluate(X_train_scaled)\n",
      "File \u001b[0;32m~/miniconda3/envs/qiskit-buona/lib/python3.10/site-packages/qiskit_machine_learning/kernels/fidelity_quantum_kernel.py:106\u001b[0m, in \u001b[0;36mFidelityQuantumKernel.evaluate\u001b[0;34m(self, x_vec, y_vec)\u001b[0m\n\u001b[1;32m    104\u001b[0m \u001b[39mif\u001b[39;00m is_symmetric:\n\u001b[1;32m    105\u001b[0m     left_parameters, right_parameters, indices \u001b[39m=\u001b[39m \u001b[39mself\u001b[39m\u001b[39m.\u001b[39m_get_symmetric_parameterization(x_vec)\n\u001b[0;32m--> 106\u001b[0m     kernel_matrix \u001b[39m=\u001b[39m \u001b[39mself\u001b[39;49m\u001b[39m.\u001b[39;49m_get_symmetric_kernel_matrix(\n\u001b[1;32m    107\u001b[0m         kernel_shape, left_parameters, right_parameters, indices\n\u001b[1;32m    108\u001b[0m     )\n\u001b[1;32m    109\u001b[0m \u001b[39melse\u001b[39;00m:\n\u001b[1;32m    110\u001b[0m     left_parameters, right_parameters, indices \u001b[39m=\u001b[39m \u001b[39mself\u001b[39m\u001b[39m.\u001b[39m_get_parameterization(x_vec, y_vec)\n",
      "File \u001b[0;32m~/miniconda3/envs/qiskit-buona/lib/python3.10/site-packages/qiskit_machine_learning/kernels/fidelity_quantum_kernel.py:194\u001b[0m, in \u001b[0;36mFidelityQuantumKernel._get_symmetric_kernel_matrix\u001b[0;34m(self, kernel_shape, left_parameters, right_parameters, indices)\u001b[0m\n\u001b[1;32m    184\u001b[0m \u001b[39mdef\u001b[39;00m \u001b[39m_get_symmetric_kernel_matrix\u001b[39m(\n\u001b[1;32m    185\u001b[0m     \u001b[39mself\u001b[39m,\n\u001b[1;32m    186\u001b[0m     kernel_shape: \u001b[39mtuple\u001b[39m[\u001b[39mint\u001b[39m, \u001b[39mint\u001b[39m],\n\u001b[0;32m   (...)\u001b[0m\n\u001b[1;32m    189\u001b[0m     indices: KernelIndices,\n\u001b[1;32m    190\u001b[0m ) \u001b[39m-\u001b[39m\u001b[39m>\u001b[39m np\u001b[39m.\u001b[39mndarray:\n\u001b[1;32m    191\u001b[0m \u001b[39m    \u001b[39m\u001b[39m\"\"\"\u001b[39;00m\n\u001b[1;32m    192\u001b[0m \u001b[39m    Given a set of parameterization, this computes the kernel matrix.\u001b[39;00m\n\u001b[1;32m    193\u001b[0m \u001b[39m    \"\"\"\u001b[39;00m\n\u001b[0;32m--> 194\u001b[0m     kernel_entries \u001b[39m=\u001b[39m \u001b[39mself\u001b[39;49m\u001b[39m.\u001b[39;49m_get_kernel_entries(left_parameters, right_parameters)\n\u001b[1;32m    195\u001b[0m     kernel_matrix \u001b[39m=\u001b[39m np\u001b[39m.\u001b[39mones(kernel_shape)\n\u001b[1;32m    197\u001b[0m     \u001b[39mfor\u001b[39;00m i, (col, row) \u001b[39min\u001b[39;00m \u001b[39menumerate\u001b[39m(indices):\n",
      "File \u001b[0;32m~/miniconda3/envs/qiskit-buona/lib/python3.10/site-packages/qiskit_machine_learning/kernels/fidelity_quantum_kernel.py:218\u001b[0m, in \u001b[0;36mFidelityQuantumKernel._get_kernel_entries\u001b[0;34m(self, left_parameters, right_parameters)\u001b[0m\n\u001b[1;32m    211\u001b[0m \u001b[39mif\u001b[39;00m num_circuits \u001b[39m!=\u001b[39m \u001b[39m0\u001b[39m:\n\u001b[1;32m    212\u001b[0m     job \u001b[39m=\u001b[39m \u001b[39mself\u001b[39m\u001b[39m.\u001b[39m_fidelity\u001b[39m.\u001b[39mrun(\n\u001b[1;32m    213\u001b[0m         [\u001b[39mself\u001b[39m\u001b[39m.\u001b[39m_feature_map] \u001b[39m*\u001b[39m num_circuits,\n\u001b[1;32m    214\u001b[0m         [\u001b[39mself\u001b[39m\u001b[39m.\u001b[39m_feature_map] \u001b[39m*\u001b[39m num_circuits,\n\u001b[1;32m    215\u001b[0m         left_parameters,\n\u001b[1;32m    216\u001b[0m         right_parameters,\n\u001b[1;32m    217\u001b[0m     )\n\u001b[0;32m--> 218\u001b[0m     kernel_entries \u001b[39m=\u001b[39m job\u001b[39m.\u001b[39;49mresult()\u001b[39m.\u001b[39mfidelities\n\u001b[1;32m    219\u001b[0m \u001b[39melse\u001b[39;00m:\n\u001b[1;32m    220\u001b[0m     \u001b[39m# trivial case, only identical samples\u001b[39;00m\n\u001b[1;32m    221\u001b[0m     kernel_entries \u001b[39m=\u001b[39m []\n",
      "File \u001b[0;32m~/miniconda3/envs/qiskit-buona/lib/python3.10/site-packages/qiskit/primitives/primitive_job.py:55\u001b[0m, in \u001b[0;36mPrimitiveJob.result\u001b[0;34m(self)\u001b[0m\n\u001b[1;32m     53\u001b[0m \u001b[39m\u001b[39m\u001b[39m\"\"\"Return the results of the job.\"\"\"\u001b[39;00m\n\u001b[1;32m     54\u001b[0m \u001b[39mself\u001b[39m\u001b[39m.\u001b[39m_check_submitted()\n\u001b[0;32m---> 55\u001b[0m \u001b[39mreturn\u001b[39;00m \u001b[39mself\u001b[39;49m\u001b[39m.\u001b[39;49m_future\u001b[39m.\u001b[39;49mresult()\n",
      "File \u001b[0;32m~/miniconda3/envs/qiskit-buona/lib/python3.10/concurrent/futures/_base.py:445\u001b[0m, in \u001b[0;36mFuture.result\u001b[0;34m(self, timeout)\u001b[0m\n\u001b[1;32m    443\u001b[0m     \u001b[39mraise\u001b[39;00m CancelledError()\n\u001b[1;32m    444\u001b[0m \u001b[39melif\u001b[39;00m \u001b[39mself\u001b[39m\u001b[39m.\u001b[39m_state \u001b[39m==\u001b[39m FINISHED:\n\u001b[0;32m--> 445\u001b[0m     \u001b[39mreturn\u001b[39;00m \u001b[39mself\u001b[39;49m\u001b[39m.\u001b[39;49m__get_result()\n\u001b[1;32m    446\u001b[0m \u001b[39melse\u001b[39;00m:\n\u001b[1;32m    447\u001b[0m     \u001b[39mraise\u001b[39;00m \u001b[39mTimeoutError\u001b[39;00m()\n",
      "File \u001b[0;32m~/miniconda3/envs/qiskit-buona/lib/python3.10/concurrent/futures/_base.py:390\u001b[0m, in \u001b[0;36mFuture.__get_result\u001b[0;34m(self)\u001b[0m\n\u001b[1;32m    388\u001b[0m \u001b[39mif\u001b[39;00m \u001b[39mself\u001b[39m\u001b[39m.\u001b[39m_exception:\n\u001b[1;32m    389\u001b[0m     \u001b[39mtry\u001b[39;00m:\n\u001b[0;32m--> 390\u001b[0m         \u001b[39mraise\u001b[39;00m \u001b[39mself\u001b[39m\u001b[39m.\u001b[39m_exception\n\u001b[1;32m    391\u001b[0m     \u001b[39mfinally\u001b[39;00m:\n\u001b[1;32m    392\u001b[0m         \u001b[39m# Break a reference cycle with the exception in self._exception\u001b[39;00m\n\u001b[1;32m    393\u001b[0m         \u001b[39mself\u001b[39m \u001b[39m=\u001b[39m \u001b[39mNone\u001b[39;00m\n",
      "File \u001b[0;32m~/miniconda3/envs/qiskit-buona/lib/python3.10/concurrent/futures/thread.py:52\u001b[0m, in \u001b[0;36m_WorkItem.run\u001b[0;34m(self)\u001b[0m\n\u001b[1;32m     49\u001b[0m     \u001b[39mreturn\u001b[39;00m\n\u001b[1;32m     51\u001b[0m \u001b[39mtry\u001b[39;00m:\n\u001b[0;32m---> 52\u001b[0m     result \u001b[39m=\u001b[39m \u001b[39mself\u001b[39;49m\u001b[39m.\u001b[39;49mfn(\u001b[39m*\u001b[39;49m\u001b[39mself\u001b[39;49m\u001b[39m.\u001b[39;49margs, \u001b[39m*\u001b[39;49m\u001b[39m*\u001b[39;49m\u001b[39mself\u001b[39;49m\u001b[39m.\u001b[39;49mkwargs)\n\u001b[1;32m     53\u001b[0m \u001b[39mexcept\u001b[39;00m \u001b[39mBaseException\u001b[39;00m \u001b[39mas\u001b[39;00m exc:\n\u001b[1;32m     54\u001b[0m     \u001b[39mself\u001b[39m\u001b[39m.\u001b[39mfuture\u001b[39m.\u001b[39mset_exception(exc)\n",
      "File \u001b[0;32m~/miniconda3/envs/qiskit-buona/lib/python3.10/site-packages/qiskit_algorithms/state_fidelities/compute_uncompute.py:172\u001b[0m, in \u001b[0;36mComputeUncompute._call\u001b[0;34m(job, circuits, local, local_opts)\u001b[0m\n\u001b[1;32m    170\u001b[0m     result \u001b[39m=\u001b[39m job\u001b[39m.\u001b[39mresult()\n\u001b[1;32m    171\u001b[0m \u001b[39mexcept\u001b[39;00m \u001b[39mException\u001b[39;00m \u001b[39mas\u001b[39;00m exc:\n\u001b[0;32m--> 172\u001b[0m     \u001b[39mraise\u001b[39;00m AlgorithmError(\u001b[39m\"\u001b[39m\u001b[39mSampler job failed!\u001b[39m\u001b[39m\"\u001b[39m) \u001b[39mfrom\u001b[39;00m \u001b[39mexc\u001b[39;00m\n\u001b[1;32m    174\u001b[0m \u001b[39mif\u001b[39;00m local:\n\u001b[1;32m    175\u001b[0m     raw_fidelities \u001b[39m=\u001b[39m [\n\u001b[1;32m    176\u001b[0m         ComputeUncompute\u001b[39m.\u001b[39m_get_local_fidelity(prob_dist, circuit\u001b[39m.\u001b[39mnum_qubits)\n\u001b[1;32m    177\u001b[0m         \u001b[39mfor\u001b[39;00m prob_dist, circuit \u001b[39min\u001b[39;00m \u001b[39mzip\u001b[39m(result\u001b[39m.\u001b[39mquasi_dists, circuits)\n\u001b[1;32m    178\u001b[0m     ]\n",
      "\u001b[0;31mAlgorithmError\u001b[0m: 'Sampler job failed!'"
     ]
    }
   ],
   "source": [
    "qk=FidelityQuantumKernel(feature_map=ft_map_t_qs,fidelity=fidelity_2)\n",
    "qk.evaluate(X_train_scaled)"
   ]
  },
  {
   "cell_type": "code",
   "execution_count": 8,
   "metadata": {},
   "outputs": [
    {
     "ename": "AlgorithmError",
     "evalue": "'Sampler job failed!'",
     "output_type": "error",
     "traceback": [
      "\u001b[0;31m---------------------------------------------------------------------------\u001b[0m",
      "\u001b[0;31mTranspilerError\u001b[0m                           Traceback (most recent call last)",
      "File \u001b[0;32m~/miniconda3/envs/qiskit-buona/lib/python3.10/site-packages/qiskit_algorithms/state_fidelities/compute_uncompute.py:170\u001b[0m, in \u001b[0;36mComputeUncompute._call\u001b[0;34m(job, circuits, local, local_opts)\u001b[0m\n\u001b[1;32m    169\u001b[0m \u001b[39mtry\u001b[39;00m:\n\u001b[0;32m--> 170\u001b[0m     result \u001b[39m=\u001b[39m job\u001b[39m.\u001b[39;49mresult()\n\u001b[1;32m    171\u001b[0m \u001b[39mexcept\u001b[39;00m \u001b[39mException\u001b[39;00m \u001b[39mas\u001b[39;00m exc:\n",
      "File \u001b[0;32m~/miniconda3/envs/qiskit-buona/lib/python3.10/site-packages/qiskit/primitives/primitive_job.py:55\u001b[0m, in \u001b[0;36mPrimitiveJob.result\u001b[0;34m(self)\u001b[0m\n\u001b[1;32m     54\u001b[0m \u001b[39mself\u001b[39m\u001b[39m.\u001b[39m_check_submitted()\n\u001b[0;32m---> 55\u001b[0m \u001b[39mreturn\u001b[39;00m \u001b[39mself\u001b[39;49m\u001b[39m.\u001b[39;49m_future\u001b[39m.\u001b[39;49mresult()\n",
      "File \u001b[0;32m~/miniconda3/envs/qiskit-buona/lib/python3.10/concurrent/futures/_base.py:445\u001b[0m, in \u001b[0;36mFuture.result\u001b[0;34m(self, timeout)\u001b[0m\n\u001b[1;32m    444\u001b[0m \u001b[39melif\u001b[39;00m \u001b[39mself\u001b[39m\u001b[39m.\u001b[39m_state \u001b[39m==\u001b[39m FINISHED:\n\u001b[0;32m--> 445\u001b[0m     \u001b[39mreturn\u001b[39;00m \u001b[39mself\u001b[39;49m\u001b[39m.\u001b[39;49m__get_result()\n\u001b[1;32m    446\u001b[0m \u001b[39melse\u001b[39;00m:\n",
      "File \u001b[0;32m~/miniconda3/envs/qiskit-buona/lib/python3.10/concurrent/futures/_base.py:390\u001b[0m, in \u001b[0;36mFuture.__get_result\u001b[0;34m(self)\u001b[0m\n\u001b[1;32m    389\u001b[0m \u001b[39mtry\u001b[39;00m:\n\u001b[0;32m--> 390\u001b[0m     \u001b[39mraise\u001b[39;00m \u001b[39mself\u001b[39m\u001b[39m.\u001b[39m_exception\n\u001b[1;32m    391\u001b[0m \u001b[39mfinally\u001b[39;00m:\n\u001b[1;32m    392\u001b[0m     \u001b[39m# Break a reference cycle with the exception in self._exception\u001b[39;00m\n",
      "File \u001b[0;32m~/miniconda3/envs/qiskit-buona/lib/python3.10/concurrent/futures/thread.py:52\u001b[0m, in \u001b[0;36m_WorkItem.run\u001b[0;34m(self)\u001b[0m\n\u001b[1;32m     51\u001b[0m \u001b[39mtry\u001b[39;00m:\n\u001b[0;32m---> 52\u001b[0m     result \u001b[39m=\u001b[39m \u001b[39mself\u001b[39;49m\u001b[39m.\u001b[39;49mfn(\u001b[39m*\u001b[39;49m\u001b[39mself\u001b[39;49m\u001b[39m.\u001b[39;49margs, \u001b[39m*\u001b[39;49m\u001b[39m*\u001b[39;49m\u001b[39mself\u001b[39;49m\u001b[39m.\u001b[39;49mkwargs)\n\u001b[1;32m     53\u001b[0m \u001b[39mexcept\u001b[39;00m \u001b[39mBaseException\u001b[39;00m \u001b[39mas\u001b[39;00m exc:\n",
      "File \u001b[0;32m~/miniconda3/envs/qiskit-buona/lib/python3.10/site-packages/qiskit_aer/primitives/sampler.py:90\u001b[0m, in \u001b[0;36mSampler._call\u001b[0;34m(self, circuits, parameter_values, **run_options)\u001b[0m\n\u001b[1;32m     89\u001b[0m is_shots_none \u001b[39m=\u001b[39m \u001b[39m\"\u001b[39m\u001b[39mshots\u001b[39m\u001b[39m\"\u001b[39m \u001b[39min\u001b[39;00m run_options \u001b[39mand\u001b[39;00m run_options[\u001b[39m\"\u001b[39m\u001b[39mshots\u001b[39m\u001b[39m\"\u001b[39m] \u001b[39mis\u001b[39;00m \u001b[39mNone\u001b[39;00m\n\u001b[0;32m---> 90\u001b[0m \u001b[39mself\u001b[39;49m\u001b[39m.\u001b[39;49m_transpile(circuits, is_shots_none)\n\u001b[1;32m     92\u001b[0m experiment_manager \u001b[39m=\u001b[39m _ExperimentManager()\n",
      "File \u001b[0;32m~/miniconda3/envs/qiskit-buona/lib/python3.10/site-packages/qiskit_aer/primitives/sampler.py:188\u001b[0m, in \u001b[0;36mSampler._transpile\u001b[0;34m(self, circuit_indices, is_shots_none)\u001b[0m\n\u001b[1;32m    187\u001b[0m \u001b[39mif\u001b[39;00m \u001b[39mnot\u001b[39;00m \u001b[39mself\u001b[39m\u001b[39m.\u001b[39m_skip_transpilation:\n\u001b[0;32m--> 188\u001b[0m     circuits \u001b[39m=\u001b[39m transpile(\n\u001b[1;32m    189\u001b[0m         \u001b[39mlist\u001b[39;49m(circuits),\n\u001b[1;32m    190\u001b[0m         \u001b[39mself\u001b[39;49m\u001b[39m.\u001b[39;49m_backend,\n\u001b[1;32m    191\u001b[0m         \u001b[39m*\u001b[39;49m\u001b[39m*\u001b[39;49m\u001b[39mself\u001b[39;49m\u001b[39m.\u001b[39;49m_transpile_options,\n\u001b[1;32m    192\u001b[0m     )\n\u001b[1;32m    193\u001b[0m \u001b[39mfor\u001b[39;00m i, circuit \u001b[39min\u001b[39;00m \u001b[39mzip\u001b[39m(to_handle, circuits):\n",
      "File \u001b[0;32m~/miniconda3/envs/qiskit-buona/lib/python3.10/site-packages/qiskit/compiler/transpiler.py:335\u001b[0m, in \u001b[0;36mtranspile\u001b[0;34m(circuits, backend, basis_gates, inst_map, coupling_map, backend_properties, initial_layout, layout_method, routing_method, translation_method, scheduling_method, instruction_durations, dt, approximation_degree, timing_constraints, seed_transpiler, optimization_level, callback, output_name, unitary_synthesis_method, unitary_synthesis_plugin_config, target, hls_config, init_method, optimization_method, ignore_backend_supplied_default_methods)\u001b[0m\n\u001b[1;32m    333\u001b[0m inst_map \u001b[39m=\u001b[39m _parse_inst_map(inst_map, backend)\n\u001b[0;32m--> 335\u001b[0m _check_circuits_coupling_map(circuits, coupling_map, backend)\n\u001b[1;32m    337\u001b[0m timing_constraints \u001b[39m=\u001b[39m _parse_timing_constraints(backend, timing_constraints)\n",
      "File \u001b[0;32m~/miniconda3/envs/qiskit-buona/lib/python3.10/site-packages/qiskit/compiler/transpiler.py:458\u001b[0m, in \u001b[0;36m_check_circuits_coupling_map\u001b[0;34m(circuits, cmap, backend)\u001b[0m\n\u001b[1;32m    457\u001b[0m \u001b[39mif\u001b[39;00m max_qubits \u001b[39mis\u001b[39;00m \u001b[39mnot\u001b[39;00m \u001b[39mNone\u001b[39;00m \u001b[39mand\u001b[39;00m (num_qubits \u001b[39m>\u001b[39m max_qubits):\n\u001b[0;32m--> 458\u001b[0m     \u001b[39mraise\u001b[39;00m TranspilerError(\n\u001b[1;32m    459\u001b[0m         \u001b[39mf\u001b[39m\u001b[39m\"\u001b[39m\u001b[39mNumber of qubits (\u001b[39m\u001b[39m{\u001b[39;00mnum_qubits\u001b[39m}\u001b[39;00m\u001b[39m) in \u001b[39m\u001b[39m{\u001b[39;00mcircuit\u001b[39m.\u001b[39mname\u001b[39m}\u001b[39;00m\u001b[39m \u001b[39m\u001b[39m\"\u001b[39m\n\u001b[1;32m    460\u001b[0m         \u001b[39mf\u001b[39m\u001b[39m\"\u001b[39m\u001b[39mis greater than maximum (\u001b[39m\u001b[39m{\u001b[39;00mmax_qubits\u001b[39m}\u001b[39;00m\u001b[39m) in the coupling_map\u001b[39m\u001b[39m\"\u001b[39m\n\u001b[1;32m    461\u001b[0m     )\n",
      "\u001b[0;31mTranspilerError\u001b[0m: 'Number of qubits (127) in circuit-19478 is greater than maximum (31) in the coupling_map'",
      "\nThe above exception was the direct cause of the following exception:\n",
      "\u001b[0;31mAlgorithmError\u001b[0m                            Traceback (most recent call last)",
      "\u001b[1;32m/CTGlab/home/valeria/Quantum-Machine-Learning-for-Expression-Data/Noisy sim_test.ipynb Cell 10\u001b[0m line \u001b[0;36m2\n\u001b[1;32m      <a href='vscode-notebook-cell://ssh-remote%2Bjess.iit.cnr.it/CTGlab/home/valeria/Quantum-Machine-Learning-for-Expression-Data/Noisy%20sim_test.ipynb#X12sdnNjb2RlLXJlbW90ZQ%3D%3D?line=0'>1</a>\u001b[0m qk\u001b[39m=\u001b[39mFidelityQuantumKernel(feature_map\u001b[39m=\u001b[39mft_map_t_qs,fidelity\u001b[39m=\u001b[39mfidelity)\n\u001b[0;32m----> <a href='vscode-notebook-cell://ssh-remote%2Bjess.iit.cnr.it/CTGlab/home/valeria/Quantum-Machine-Learning-for-Expression-Data/Noisy%20sim_test.ipynb#X12sdnNjb2RlLXJlbW90ZQ%3D%3D?line=1'>2</a>\u001b[0m qk\u001b[39m.\u001b[39;49mevaluate(X_train_scaled)\n",
      "File \u001b[0;32m~/miniconda3/envs/qiskit-buona/lib/python3.10/site-packages/qiskit_machine_learning/kernels/fidelity_quantum_kernel.py:106\u001b[0m, in \u001b[0;36mFidelityQuantumKernel.evaluate\u001b[0;34m(self, x_vec, y_vec)\u001b[0m\n\u001b[1;32m    104\u001b[0m \u001b[39mif\u001b[39;00m is_symmetric:\n\u001b[1;32m    105\u001b[0m     left_parameters, right_parameters, indices \u001b[39m=\u001b[39m \u001b[39mself\u001b[39m\u001b[39m.\u001b[39m_get_symmetric_parameterization(x_vec)\n\u001b[0;32m--> 106\u001b[0m     kernel_matrix \u001b[39m=\u001b[39m \u001b[39mself\u001b[39;49m\u001b[39m.\u001b[39;49m_get_symmetric_kernel_matrix(\n\u001b[1;32m    107\u001b[0m         kernel_shape, left_parameters, right_parameters, indices\n\u001b[1;32m    108\u001b[0m     )\n\u001b[1;32m    109\u001b[0m \u001b[39melse\u001b[39;00m:\n\u001b[1;32m    110\u001b[0m     left_parameters, right_parameters, indices \u001b[39m=\u001b[39m \u001b[39mself\u001b[39m\u001b[39m.\u001b[39m_get_parameterization(x_vec, y_vec)\n",
      "File \u001b[0;32m~/miniconda3/envs/qiskit-buona/lib/python3.10/site-packages/qiskit_machine_learning/kernels/fidelity_quantum_kernel.py:194\u001b[0m, in \u001b[0;36mFidelityQuantumKernel._get_symmetric_kernel_matrix\u001b[0;34m(self, kernel_shape, left_parameters, right_parameters, indices)\u001b[0m\n\u001b[1;32m    184\u001b[0m \u001b[39mdef\u001b[39;00m \u001b[39m_get_symmetric_kernel_matrix\u001b[39m(\n\u001b[1;32m    185\u001b[0m     \u001b[39mself\u001b[39m,\n\u001b[1;32m    186\u001b[0m     kernel_shape: \u001b[39mtuple\u001b[39m[\u001b[39mint\u001b[39m, \u001b[39mint\u001b[39m],\n\u001b[0;32m   (...)\u001b[0m\n\u001b[1;32m    189\u001b[0m     indices: KernelIndices,\n\u001b[1;32m    190\u001b[0m ) \u001b[39m-\u001b[39m\u001b[39m>\u001b[39m np\u001b[39m.\u001b[39mndarray:\n\u001b[1;32m    191\u001b[0m \u001b[39m    \u001b[39m\u001b[39m\"\"\"\u001b[39;00m\n\u001b[1;32m    192\u001b[0m \u001b[39m    Given a set of parameterization, this computes the kernel matrix.\u001b[39;00m\n\u001b[1;32m    193\u001b[0m \u001b[39m    \"\"\"\u001b[39;00m\n\u001b[0;32m--> 194\u001b[0m     kernel_entries \u001b[39m=\u001b[39m \u001b[39mself\u001b[39;49m\u001b[39m.\u001b[39;49m_get_kernel_entries(left_parameters, right_parameters)\n\u001b[1;32m    195\u001b[0m     kernel_matrix \u001b[39m=\u001b[39m np\u001b[39m.\u001b[39mones(kernel_shape)\n\u001b[1;32m    197\u001b[0m     \u001b[39mfor\u001b[39;00m i, (col, row) \u001b[39min\u001b[39;00m \u001b[39menumerate\u001b[39m(indices):\n",
      "File \u001b[0;32m~/miniconda3/envs/qiskit-buona/lib/python3.10/site-packages/qiskit_machine_learning/kernels/fidelity_quantum_kernel.py:218\u001b[0m, in \u001b[0;36mFidelityQuantumKernel._get_kernel_entries\u001b[0;34m(self, left_parameters, right_parameters)\u001b[0m\n\u001b[1;32m    211\u001b[0m \u001b[39mif\u001b[39;00m num_circuits \u001b[39m!=\u001b[39m \u001b[39m0\u001b[39m:\n\u001b[1;32m    212\u001b[0m     job \u001b[39m=\u001b[39m \u001b[39mself\u001b[39m\u001b[39m.\u001b[39m_fidelity\u001b[39m.\u001b[39mrun(\n\u001b[1;32m    213\u001b[0m         [\u001b[39mself\u001b[39m\u001b[39m.\u001b[39m_feature_map] \u001b[39m*\u001b[39m num_circuits,\n\u001b[1;32m    214\u001b[0m         [\u001b[39mself\u001b[39m\u001b[39m.\u001b[39m_feature_map] \u001b[39m*\u001b[39m num_circuits,\n\u001b[1;32m    215\u001b[0m         left_parameters,\n\u001b[1;32m    216\u001b[0m         right_parameters,\n\u001b[1;32m    217\u001b[0m     )\n\u001b[0;32m--> 218\u001b[0m     kernel_entries \u001b[39m=\u001b[39m job\u001b[39m.\u001b[39;49mresult()\u001b[39m.\u001b[39mfidelities\n\u001b[1;32m    219\u001b[0m \u001b[39melse\u001b[39;00m:\n\u001b[1;32m    220\u001b[0m     \u001b[39m# trivial case, only identical samples\u001b[39;00m\n\u001b[1;32m    221\u001b[0m     kernel_entries \u001b[39m=\u001b[39m []\n",
      "File \u001b[0;32m~/miniconda3/envs/qiskit-buona/lib/python3.10/site-packages/qiskit/primitives/primitive_job.py:55\u001b[0m, in \u001b[0;36mPrimitiveJob.result\u001b[0;34m(self)\u001b[0m\n\u001b[1;32m     53\u001b[0m \u001b[39m\u001b[39m\u001b[39m\"\"\"Return the results of the job.\"\"\"\u001b[39;00m\n\u001b[1;32m     54\u001b[0m \u001b[39mself\u001b[39m\u001b[39m.\u001b[39m_check_submitted()\n\u001b[0;32m---> 55\u001b[0m \u001b[39mreturn\u001b[39;00m \u001b[39mself\u001b[39;49m\u001b[39m.\u001b[39;49m_future\u001b[39m.\u001b[39;49mresult()\n",
      "File \u001b[0;32m~/miniconda3/envs/qiskit-buona/lib/python3.10/concurrent/futures/_base.py:445\u001b[0m, in \u001b[0;36mFuture.result\u001b[0;34m(self, timeout)\u001b[0m\n\u001b[1;32m    443\u001b[0m     \u001b[39mraise\u001b[39;00m CancelledError()\n\u001b[1;32m    444\u001b[0m \u001b[39melif\u001b[39;00m \u001b[39mself\u001b[39m\u001b[39m.\u001b[39m_state \u001b[39m==\u001b[39m FINISHED:\n\u001b[0;32m--> 445\u001b[0m     \u001b[39mreturn\u001b[39;00m \u001b[39mself\u001b[39;49m\u001b[39m.\u001b[39;49m__get_result()\n\u001b[1;32m    446\u001b[0m \u001b[39melse\u001b[39;00m:\n\u001b[1;32m    447\u001b[0m     \u001b[39mraise\u001b[39;00m \u001b[39mTimeoutError\u001b[39;00m()\n",
      "File \u001b[0;32m~/miniconda3/envs/qiskit-buona/lib/python3.10/concurrent/futures/_base.py:390\u001b[0m, in \u001b[0;36mFuture.__get_result\u001b[0;34m(self)\u001b[0m\n\u001b[1;32m    388\u001b[0m \u001b[39mif\u001b[39;00m \u001b[39mself\u001b[39m\u001b[39m.\u001b[39m_exception:\n\u001b[1;32m    389\u001b[0m     \u001b[39mtry\u001b[39;00m:\n\u001b[0;32m--> 390\u001b[0m         \u001b[39mraise\u001b[39;00m \u001b[39mself\u001b[39m\u001b[39m.\u001b[39m_exception\n\u001b[1;32m    391\u001b[0m     \u001b[39mfinally\u001b[39;00m:\n\u001b[1;32m    392\u001b[0m         \u001b[39m# Break a reference cycle with the exception in self._exception\u001b[39;00m\n\u001b[1;32m    393\u001b[0m         \u001b[39mself\u001b[39m \u001b[39m=\u001b[39m \u001b[39mNone\u001b[39;00m\n",
      "File \u001b[0;32m~/miniconda3/envs/qiskit-buona/lib/python3.10/concurrent/futures/thread.py:52\u001b[0m, in \u001b[0;36m_WorkItem.run\u001b[0;34m(self)\u001b[0m\n\u001b[1;32m     49\u001b[0m     \u001b[39mreturn\u001b[39;00m\n\u001b[1;32m     51\u001b[0m \u001b[39mtry\u001b[39;00m:\n\u001b[0;32m---> 52\u001b[0m     result \u001b[39m=\u001b[39m \u001b[39mself\u001b[39;49m\u001b[39m.\u001b[39;49mfn(\u001b[39m*\u001b[39;49m\u001b[39mself\u001b[39;49m\u001b[39m.\u001b[39;49margs, \u001b[39m*\u001b[39;49m\u001b[39m*\u001b[39;49m\u001b[39mself\u001b[39;49m\u001b[39m.\u001b[39;49mkwargs)\n\u001b[1;32m     53\u001b[0m \u001b[39mexcept\u001b[39;00m \u001b[39mBaseException\u001b[39;00m \u001b[39mas\u001b[39;00m exc:\n\u001b[1;32m     54\u001b[0m     \u001b[39mself\u001b[39m\u001b[39m.\u001b[39mfuture\u001b[39m.\u001b[39mset_exception(exc)\n",
      "File \u001b[0;32m~/miniconda3/envs/qiskit-buona/lib/python3.10/site-packages/qiskit_algorithms/state_fidelities/compute_uncompute.py:172\u001b[0m, in \u001b[0;36mComputeUncompute._call\u001b[0;34m(job, circuits, local, local_opts)\u001b[0m\n\u001b[1;32m    170\u001b[0m     result \u001b[39m=\u001b[39m job\u001b[39m.\u001b[39mresult()\n\u001b[1;32m    171\u001b[0m \u001b[39mexcept\u001b[39;00m \u001b[39mException\u001b[39;00m \u001b[39mas\u001b[39;00m exc:\n\u001b[0;32m--> 172\u001b[0m     \u001b[39mraise\u001b[39;00m AlgorithmError(\u001b[39m\"\u001b[39m\u001b[39mSampler job failed!\u001b[39m\u001b[39m\"\u001b[39m) \u001b[39mfrom\u001b[39;00m \u001b[39mexc\u001b[39;00m\n\u001b[1;32m    174\u001b[0m \u001b[39mif\u001b[39;00m local:\n\u001b[1;32m    175\u001b[0m     raw_fidelities \u001b[39m=\u001b[39m [\n\u001b[1;32m    176\u001b[0m         ComputeUncompute\u001b[39m.\u001b[39m_get_local_fidelity(prob_dist, circuit\u001b[39m.\u001b[39mnum_qubits)\n\u001b[1;32m    177\u001b[0m         \u001b[39mfor\u001b[39;00m prob_dist, circuit \u001b[39min\u001b[39;00m \u001b[39mzip\u001b[39m(result\u001b[39m.\u001b[39mquasi_dists, circuits)\n\u001b[1;32m    178\u001b[0m     ]\n",
      "\u001b[0;31mAlgorithmError\u001b[0m: 'Sampler job failed!'"
     ]
    }
   ],
   "source": [
    "qk=FidelityQuantumKernel(feature_map=ft_map_t_qs,fidelity=fidelity)\n",
    "qk.evaluate(X_train_scaled)"
   ]
  }
 ],
 "metadata": {
  "kernelspec": {
   "display_name": "qiskit-buona",
   "language": "python",
   "name": "python3"
  },
  "language_info": {
   "codemirror_mode": {
    "name": "ipython",
    "version": 3
   },
   "file_extension": ".py",
   "mimetype": "text/x-python",
   "name": "python",
   "nbconvert_exporter": "python",
   "pygments_lexer": "ipython3",
   "version": "3.10.0"
  }
 },
 "nbformat": 4,
 "nbformat_minor": 2
}
