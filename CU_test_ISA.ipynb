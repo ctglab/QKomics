{
 "cells": [
  {
   "cell_type": "code",
   "execution_count": 2,
   "metadata": {},
   "outputs": [],
   "source": [
    "from qiskit.transpiler.preset_passmanagers import generate_preset_pass_manager\n",
    "from qiskit.visualization import *\n",
    "# Importing standard Qiskit libraries and configuring account\n",
    "from qiskit_ibm_runtime import QiskitRuntimeService, Options\n",
    "#import qiskit_ibm_runtime \n",
    "#from qiskit.primitives import BackendSampler\n",
    "#from qiskit.providers.fake_provider import FakeMumbaiV2\n",
    "from qiskit_aer.primitives import Sampler\n",
    "#from qiskit.utils import algorithm_globals\n",
    "#Load feature maps\n",
    "from qiskit_aer import AerSimulator\n",
    "from qiskit_aer.noise import NoiseModel\n",
    "from qiskit.circuit.library import ZZFeatureMap\n",
    "from qiskit_algorithms.state_fidelities import ComputeUncompute\n",
    "#from Kernels.src.ComputeUncompute import ComputeUncompute\n",
    "#from Kernels.src.ComputeUncompute_2 import ComputeUncompute_2\n",
    "from qiskit_machine_learning.kernels import FidelityQuantumKernel\n",
    "\n",
    "import numpy as np\n",
    "\n",
    "from sklearn.preprocessing import MinMaxScaler"
   ]
  },
  {
   "cell_type": "code",
   "execution_count": 3,
   "metadata": {},
   "outputs": [],
   "source": [
    "from qiskit_ibm_runtime.fake_provider import FakeMumbai"
   ]
  },
  {
   "cell_type": "code",
   "execution_count": 7,
   "metadata": {},
   "outputs": [
    {
     "name": "stderr",
     "output_type": "stream",
     "text": [
      "/tmp/ipykernel_174933/4105265394.py:1: DeprecationWarning: V1 fake backends are deprecated as of qiskit-ibm-runtime 0.24 and will be removed no sooner than 3 months after the release date. Please use V2 fake backends instead.\n",
      "  backend = FakeMumbai()\n"
     ]
    }
   ],
   "source": [
    "backend = FakeMumbai()"
   ]
  },
  {
   "cell_type": "code",
   "execution_count": 8,
   "metadata": {},
   "outputs": [
    {
     "ename": "MissingOptionalLibraryError",
     "evalue": "\"The 'Graphviz' library is required to use 'plot_coupling_map'.  To install, follow the instructions at https://graphviz.org/download/. Qiskit needs the Graphviz binaries, which the 'graphviz' package on pip does not install. You must install the actual Graphviz software.\"",
     "output_type": "error",
     "traceback": [
      "\u001b[0;31m---------------------------------------------------------------------------\u001b[0m",
      "\u001b[0;31mMissingOptionalLibraryError\u001b[0m               Traceback (most recent call last)",
      "Cell \u001b[0;32mIn[8], line 1\u001b[0m\n\u001b[0;32m----> 1\u001b[0m \u001b[43mplot_coupling_map\u001b[49m\u001b[43m(\u001b[49m\u001b[43mbackend\u001b[49m\u001b[43m)\u001b[49m\n",
      "File \u001b[0;32m~/miniconda3/envs/qiskit_1_venv/lib/python3.11/site-packages/qiskit/utils/lazy_tester.py:165\u001b[0m, in \u001b[0;36mLazyDependencyManager.require_in_call.<locals>.out\u001b[0;34m(*args, **kwargs)\u001b[0m\n\u001b[1;32m    162\u001b[0m \u001b[38;5;129m@functools\u001b[39m\u001b[38;5;241m.\u001b[39mwraps(function)\n\u001b[1;32m    163\u001b[0m \u001b[38;5;28;01mdef\u001b[39;00m \u001b[38;5;21mout\u001b[39m(\u001b[38;5;241m*\u001b[39margs, \u001b[38;5;241m*\u001b[39m\u001b[38;5;241m*\u001b[39mkwargs):\n\u001b[1;32m    164\u001b[0m     \u001b[38;5;28mself\u001b[39m\u001b[38;5;241m.\u001b[39mrequire_now(feature)\n\u001b[0;32m--> 165\u001b[0m     \u001b[38;5;28;01mreturn\u001b[39;00m \u001b[43mfunction\u001b[49m\u001b[43m(\u001b[49m\u001b[38;5;241;43m*\u001b[39;49m\u001b[43margs\u001b[49m\u001b[43m,\u001b[49m\u001b[43m \u001b[49m\u001b[38;5;241;43m*\u001b[39;49m\u001b[38;5;241;43m*\u001b[39;49m\u001b[43mkwargs\u001b[49m\u001b[43m)\u001b[49m\n",
      "File \u001b[0;32m~/miniconda3/envs/qiskit_1_venv/lib/python3.11/site-packages/qiskit/utils/lazy_tester.py:164\u001b[0m, in \u001b[0;36mLazyDependencyManager.require_in_call.<locals>.out\u001b[0;34m(*args, **kwargs)\u001b[0m\n\u001b[1;32m    162\u001b[0m \u001b[38;5;129m@functools\u001b[39m\u001b[38;5;241m.\u001b[39mwraps(function)\n\u001b[1;32m    163\u001b[0m \u001b[38;5;28;01mdef\u001b[39;00m \u001b[38;5;21mout\u001b[39m(\u001b[38;5;241m*\u001b[39margs, \u001b[38;5;241m*\u001b[39m\u001b[38;5;241m*\u001b[39mkwargs):\n\u001b[0;32m--> 164\u001b[0m     \u001b[38;5;28;43mself\u001b[39;49m\u001b[38;5;241;43m.\u001b[39;49m\u001b[43mrequire_now\u001b[49m\u001b[43m(\u001b[49m\u001b[43mfeature\u001b[49m\u001b[43m)\u001b[49m\n\u001b[1;32m    165\u001b[0m     \u001b[38;5;28;01mreturn\u001b[39;00m function(\u001b[38;5;241m*\u001b[39margs, \u001b[38;5;241m*\u001b[39m\u001b[38;5;241m*\u001b[39mkwargs)\n",
      "File \u001b[0;32m~/miniconda3/envs/qiskit_1_venv/lib/python3.11/site-packages/qiskit/utils/lazy_tester.py:221\u001b[0m, in \u001b[0;36mLazyDependencyManager.require_now\u001b[0;34m(self, feature)\u001b[0m\n\u001b[1;32m    219\u001b[0m \u001b[38;5;28;01mif\u001b[39;00m \u001b[38;5;28mself\u001b[39m:\n\u001b[1;32m    220\u001b[0m     \u001b[38;5;28;01mreturn\u001b[39;00m\n\u001b[0;32m--> 221\u001b[0m \u001b[38;5;28;01mraise\u001b[39;00m MissingOptionalLibraryError(\n\u001b[1;32m    222\u001b[0m     libname\u001b[38;5;241m=\u001b[39m\u001b[38;5;28mself\u001b[39m\u001b[38;5;241m.\u001b[39m_name, name\u001b[38;5;241m=\u001b[39mfeature, pip_install\u001b[38;5;241m=\u001b[39m\u001b[38;5;28mself\u001b[39m\u001b[38;5;241m.\u001b[39m_install, msg\u001b[38;5;241m=\u001b[39m\u001b[38;5;28mself\u001b[39m\u001b[38;5;241m.\u001b[39m_msg\n\u001b[1;32m    223\u001b[0m )\n",
      "\u001b[0;31mMissingOptionalLibraryError\u001b[0m: \"The 'Graphviz' library is required to use 'plot_coupling_map'.  To install, follow the instructions at https://graphviz.org/download/. Qiskit needs the Graphviz binaries, which the 'graphviz' package on pip does not install. You must install the actual Graphviz software.\""
     ]
    }
   ],
   "source": [
    "plot_coupling_map(backend)"
   ]
  },
  {
   "cell_type": "code",
   "execution_count": 2,
   "metadata": {},
   "outputs": [
    {
     "name": "stdout",
     "output_type": "stream",
     "text": [
      "Loading IBM Quantum account\n",
      "selecting backend\n"
     ]
    }
   ],
   "source": [
    "########################QUANTUM SESSION#########################################################\n",
    "# Loading your IBM Quantum account(s)\n",
    "print('Loading IBM Quantum account')\n",
    "# Loading your IBM Quantum account(s)\n",
    "service=QiskitRuntimeService(channel=\"ibm_quantum\",token=\"95e70510a429e03c7cc4ce4c5c979c794135dbacffbebe5325dcd8b627cfe42c9f61e91945ba1adea992f81849c74cc5e0ed1ab93977db5084dd26a28fd25dd8\")\n",
    "print('selecting backend')\n",
    "#backend = service.get_backend('ibmq_qasm_simulator')\n",
    "backend_or=service.least_busy(operational=True, simulator=False)\n",
    "#backend=FakeMumbaiV2()\n",
    "noise_model = NoiseModel.from_backend(backend_or)\n",
    "backend=AerSimulator.from_backend(backend_or)\n",
    "\n",
    "print(backend)\n",
    "target = backend.target\n",
    "coupling_map = target.build_coupling_map()"
   ]
  },
  {
   "cell_type": "code",
   "execution_count": 5,
   "metadata": {},
   "outputs": [
    {
     "name": "stdout",
     "output_type": "stream",
     "text": [
      "FT map instance\n",
      "transpile circuit\n",
      "<class 'qiskit.transpiler.passmanager.StagedPassManager'>\n"
     ]
    }
   ],
   "source": [
    "print('FT map instance')\n",
    "#Instance FTMAP\n",
    "n_qubits=4\n",
    "reps=1\n",
    "ft_map = ZZFeatureMap(feature_dimension=n_qubits, reps=1)\n",
    "\n",
    "#transpile circuit\n",
    "print('transpile circuit')\n",
    "pm=generate_preset_pass_manager(backend=backend,optimization_level=1)\n",
    "print(type(pm))\n",
    "ft_map_t_qs = pm.run(ft_map)"
   ]
  },
  {
   "cell_type": "code",
   "execution_count": 6,
   "metadata": {},
   "outputs": [],
   "source": [
    "#Generate sample data\n",
    "X_train=np.random.rand(10,4)\n",
    "\n",
    "scaler = MinMaxScaler(feature_range=(0, 1*np.pi))\n",
    "scaler.fit(X_train)\n",
    "X_train_scaled = scaler.transform(X_train)"
   ]
  },
  {
   "cell_type": "code",
   "execution_count": 12,
   "metadata": {},
   "outputs": [],
   "source": [
    "\"\"\"\n",
    "#Set primitive sampler options\n",
    "options = Options()\n",
    "#Error mitigation level (resilience_level)\n",
    "options.resilience_level = 1\n",
    "#Optimization level\n",
    "options.optimization_level = 3\n",
    "#Number of shots\n",
    "options.execution.shots = 2000\n",
    "#Skip translation since the circuit is already transpiled\n",
    "options.skip_transpilation= False\n",
    "\n",
    "\n",
    "\"\"\"\n",
    "\n",
    "\n",
    "# Create a quantum kernel based on the transpiled feature map\n",
    "#Set Primitive sampler\n",
    "#sampler = qiskit_ibm_runtime.Sampler(backend=backend)\n",
    "sampler = Sampler(backend_options={\"noise_model\": noise_model, \"shots\": 2000, \"seed_simulator\":42})\n"
   ]
  },
  {
   "cell_type": "code",
   "execution_count": 13,
   "metadata": {},
   "outputs": [
    {
     "name": "stdout",
     "output_type": "stream",
     "text": [
      "Compose circuit with already transposed ftmap and run it\n",
      ">>> Job ID: 4e23234c-1b26-4bc7-b490-324642bf14e6\n",
      ">>> Job Status: JobStatus.RUNNING\n"
     ]
    }
   ],
   "source": [
    "print('Compose circuit with already transposed ftmap and run it')\n",
    "ft_map_t_p=ft_map_t_qs.assign_parameters(X_train_scaled[0])\n",
    "circuit=ft_map_t_qs.compose(ft_map_t_qs.inverse())\n",
    "circuit.measure_active()\n",
    "#run circuit\n",
    "job = sampler.run(circuit,parameter_values=[np.random.rand(4)])\n",
    "print(f\">>> Job ID: {job.job_id()}\")\n",
    "print(f\">>> Job Status: {job.status()}\")"
   ]
  },
  {
   "cell_type": "code",
   "execution_count": 8,
   "metadata": {},
   "outputs": [
    {
     "name": "stdout",
     "output_type": "stream",
     "text": [
      ">>> Job ID: b8c7d38c-a9aa-405c-9c2a-8894eef7d174\n",
      ">>> Job Status: JobStatus.RUNNING\n"
     ]
    }
   ],
   "source": [
    "print(f\">>> Job ID: {job.job_id()}\")\n",
    "print(f\">>> Job Status: {job.status()}\")"
   ]
  },
  {
   "cell_type": "code",
   "execution_count": 9,
   "metadata": {},
   "outputs": [
    {
     "name": "stdout",
     "output_type": "stream",
     "text": [
      "Case 2: Compose and then transpose full circuit\n"
     ]
    },
    {
     "name": "stdout",
     "output_type": "stream",
     "text": [
      ">>> Job ID: ba925b51-712f-4246-9f29-7e2485444ca6\n",
      ">>> Job Status: JobStatus.RUNNING\n"
     ]
    }
   ],
   "source": [
    "print('Case 2: Compose and then transpose full circuit')\n",
    "circuit_2=ft_map.compose(ft_map.inverse())\n",
    "circuit_2.measure_active()\n",
    "#transpose\n",
    "isa_circuit_2=pm.run(circuit_2)\n",
    "job_2 = sampler.run(isa_circuit_2,parameter_values=[np.random.rand(4)])\n",
    "print(f\">>> Job ID: {job_2.job_id()}\")\n",
    "print(f\">>> Job Status: {job_2.status()}\")\n"
   ]
  },
  {
   "cell_type": "code",
   "execution_count": 10,
   "metadata": {},
   "outputs": [
    {
     "name": "stdout",
     "output_type": "stream",
     "text": [
      ">>> Job ID: ba925b51-712f-4246-9f29-7e2485444ca6\n",
      ">>> Job Status: JobStatus.RUNNING\n"
     ]
    }
   ],
   "source": [
    "print(f\">>> Job ID: {job_2.job_id()}\")\n",
    "print(f\">>> Job Status: {job_2.status()}\")"
   ]
  },
  {
   "cell_type": "markdown",
   "metadata": {},
   "source": [
    "### Run as fidelity kernel"
   ]
  },
  {
   "cell_type": "code",
   "execution_count": 14,
   "metadata": {},
   "outputs": [
    {
     "name": "stdout",
     "output_type": "stream",
     "text": [
      "Run as fidelity kernel normal way\n"
     ]
    }
   ],
   "source": [
    "print('Run as fidelity kernel normal way')\n",
    "fidelity = ComputeUncompute(sampler=sampler)\n",
    "#run circuit using fidelity\n",
    "test=fidelity._run(ft_map_t_qs,ft_map_t_qs,X_train_scaled[0],X_train_scaled[1])\n"
   ]
  },
  {
   "cell_type": "code",
   "execution_count": 9,
   "metadata": {},
   "outputs": [
    {
     "name": "stdout",
     "output_type": "stream",
     "text": [
      "Run as a fidelity Kernel but with inside transpilation like case 2\n"
     ]
    }
   ],
   "source": [
    "#Set fidelity\n",
    "print('Run as a fidelity Kernel but with inside transpilation like case 2')\n",
    "fidelity_2 = ComputeUncompute_2(sampler=sampler,pm=pm)\n",
    "test_2=fidelity_2._run(ft_map,ft_map,X_train_scaled[0],X_train_scaled[1])\n",
    "\n"
   ]
  },
  {
   "cell_type": "code",
   "execution_count": null,
   "metadata": {},
   "outputs": [],
   "source": [
    "qk=FidelityQuantumKernel(feature_map=ft_map_t_qs,fidelity=fidelity)\n",
    "qk.evaluate(X_train_scaled[:10])"
   ]
  }
 ],
 "metadata": {
  "kernelspec": {
   "display_name": "qiskit-buona",
   "language": "python",
   "name": "python3"
  },
  "language_info": {
   "codemirror_mode": {
    "name": "ipython",
    "version": 3
   },
   "file_extension": ".py",
   "mimetype": "text/x-python",
   "name": "python",
   "nbconvert_exporter": "python",
   "pygments_lexer": "ipython3",
   "version": "3.11.0"
  }
 },
 "nbformat": 4,
 "nbformat_minor": 2
}
