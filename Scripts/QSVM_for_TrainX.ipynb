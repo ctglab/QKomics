{
 "cells": [
  {
   "cell_type": "code",
   "execution_count": 1,
   "id": "36bf86c8-b747-44a5-a05e-19c200cddcaa",
   "metadata": {},
   "outputs": [],
   "source": [
    "import numpy as np\n",
    "from qiskit import BasicAer\n",
    "#from qiskit.aqua import QuantumInstance, aqua_globals\n",
    "from qiskit import IBMQ\n",
    "\n",
    "from qiskit import BasicAer\n",
    "from qiskit.circuit.library import ZZFeatureMap\n",
    "from qiskit.utils import QuantumInstance, algorithm_globals\n",
    "from qiskit_machine_learning.algorithms import QSVC\n",
    "from qiskit_machine_learning.kernels import QuantumKernel\n",
    "from qiskit_machine_learning.datasets import ad_hoc_data\n",
    "\n",
    "\n",
    "\n",
    "from datetime import datetime\n",
    "\n",
    "seed = 12348\n",
    "\n",
    "\n",
    "# Loading your IBM Quantum account(s)\n"
   ]
  },
  {
   "cell_type": "code",
   "execution_count": 2,
   "id": "6a125e93-749f-4ce6-8266-15114357ba53",
   "metadata": {},
   "outputs": [],
   "source": [
    "from sklearn.svm import SVC\n",
    "from sklearn.cluster import SpectralClustering\n",
    "from sklearn.metrics import normalized_mutual_info_score\n",
    "from sklearn.model_selection import train_test_split\n",
    "from sklearn.preprocessing import MinMaxScaler\n",
    "\n",
    "import pandas as pd\n"
   ]
  },
  {
   "cell_type": "code",
   "execution_count": 6,
   "id": "813e7ae3-2971-4de6-b4e1-ef3bbaa91795",
   "metadata": {},
   "outputs": [
    {
     "name": "stderr",
     "output_type": "stream",
     "text": [
      "ibmqfactory.load_account:WARNING:2022-05-20 10:06:31,637: Credentials are already in use. The existing account in the session will be replaced.\n"
     ]
    },
    {
     "name": "stdout",
     "output_type": "stream",
     "text": [
      "ibmq_montreal\n"
     ]
    }
   ],
   "source": [
    "#set backend\n",
    "IBMQ.save_account('ab57ee0cefb0e9dad544e4654f04acd4b277a9234129269b97ebebf6cd82e1b7a3d64e1f44006b01a1c3bb136589819486e6f408210e56bbbdd5cf795d056344',overwrite=True)\n",
    "provider = IBMQ.load_account()\n",
    "IBMQ.providers()\n",
    "#provider = IBMQ.get_provider('ibm-q','open','main')\n",
    "provider = IBMQ.get_provider('partner-cnr','iit','qml-for-genomics')\n",
    "\n",
    "num_qubits = 2\n",
    "\n",
    "from qiskit.providers.ibmq import least_busy\n",
    "possible_devices = provider.backends(filters=lambda x: \n",
    "        x.configuration().n_qubits >= num_qubits\n",
    "                                       and \n",
    "        x.configuration().simulator == False)\n",
    "backend = least_busy(possible_devices)\n",
    "print(backend)\n"
   ]
  },
  {
   "cell_type": "code",
   "execution_count": 7,
   "id": "dc9a45b2-caa0-4561-a649-da47562f7f91",
   "metadata": {},
   "outputs": [],
   "source": [
    "#Load training data\n",
    "\n",
    "xlr = pd.read_csv(\"/CTGlab/home/elia/qiskit test/dataset/test_xlr.txt\", sep = \"\\t\")\n",
    "nsd = pd.read_csv(\"/CTGlab/home/elia/qiskit test/dataset/test_nsd.txt\", sep = \"\\t\")\n",
    "sd = pd.read_csv(\"/CTGlab/home/elia/qiskit test/dataset/test_sd.txt\", sep = \"\\t\")"
   ]
  },
  {
   "cell_type": "code",
   "execution_count": 8,
   "id": "dc58ecdd-690f-4f88-bd74-38ecec03d406",
   "metadata": {},
   "outputs": [],
   "source": [
    "all_columns = ['MeanCvg', 'NRC_poolNorm', 'Class']\n",
    "features = all_columns[:-1]\n",
    "labels = all_columns[-1]\n",
    "\n",
    "X_train, X_test, y_train, y_test = train_test_split(xlr[features], xlr[labels], train_size=500, random_state=42,stratify=xlr[labels])\n",
    "\n",
    "# %%\n",
    "scaler = MinMaxScaler(feature_range = (0, 2*np.pi))\n",
    "scaler.fit(X_train)\n",
    "\n",
    "X_train_scaled = scaler.transform(X_train)\n",
    "X_test_scaled = scaler.transform(X_test)\n",
    "\n",
    "nsd_scaled = scaler.transform(nsd[features])\n",
    "sd_scaled = scaler.transform(sd[features])\n",
    "\n",
    "y_nsd = nsd[labels]\n",
    "y_sd = sd[labels]"
   ]
  },
  {
   "cell_type": "markdown",
   "id": "d07fefc2",
   "metadata": {},
   "source": [
    "## Quantum kernel with sklearn.SVC"
   ]
  },
  {
   "cell_type": "code",
   "execution_count": 9,
   "id": "2922518b",
   "metadata": {},
   "outputs": [],
   "source": [
    "#define kernel and quantumInstance\n",
    "num_qubits = 2\n",
    "shots= 1024\n",
    "feature_map = ZZFeatureMap(feature_dimension=num_qubits,entanglement='linear')\n",
    "\n",
    "quantum_instance = QuantumInstance(backend,shots=shots,skip_qobj_validation=False)\n",
    "\n",
    "adhoc_kernel = QuantumKernel(feature_map=feature_map, quantum_instance=quantum_instance)#Creation of k\n",
    "\n"
   ]
  },
  {
   "cell_type": "code",
   "execution_count": 10,
   "id": "0e415d8d-e905-4194-ab83-b180b59cd6fa",
   "metadata": {},
   "outputs": [],
   "source": [
    "adhoc_svc = SVC(kernel=adhoc_kernel.evaluate)"
   ]
  },
  {
   "cell_type": "code",
   "execution_count": 11,
   "id": "5482e4b3-cbb4-446b-beeb-314f8a06041a",
   "metadata": {},
   "outputs": [],
   "source": [
    "time_quntum=datetime.now()\n",
    "adhoc_svc.fit(X_train_scaled, y_train)\n",
    "print('tempo esecuzione fit quantum:', datetime.now()-time_quntum)\n"
   ]
  },
  {
   "cell_type": "code",
   "execution_count": null,
   "id": "914875a2",
   "metadata": {},
   "outputs": [],
   "source": [
    "import pickle\n",
    "\n",
    "def is_picklable(obj):\n",
    "    try:\n",
    "        pickle.dumps(obj)\n",
    "    except Exception:\n",
    "        return False\n",
    "    return True\n",
    "\n",
    "\n",
    "bk = {}\n",
    "for k in dir():\n",
    "    obj = globals()[k]\n",
    "    if is_picklable(obj):\n",
    "        try:\n",
    "            bk.update({k: obj})\n",
    "        except TypeError:\n",
    "            pass\n",
    "\n",
    "# to save session\n",
    "with open('./After_fit_500pt_bk.pkl', 'wb') as f2:\n",
    "    pickle.dump(bk, f2)\n"
   ]
  },
  {
   "cell_type": "code",
   "execution_count": null,
   "id": "31e4a363-a864-4242-b0dd-95bd13cf55e4",
   "metadata": {},
   "outputs": [],
   "source": [
    "xlr_eval, _, y_xlr_eval, _ = train_test_split(X_test_scaled, y_test, train_size= 500, random_state=42,stratify=y_test)\n",
    "nsd_eval, _, y_nsd_eval, _ = train_test_split(nsd_scaled, y_nsd, train_size= 500, random_state=42,stratify=y_nsd)\n",
    "sd_eval, _, y_sd_eval, _ = train_test_split(sd_scaled, y_sd, train_size= 500, random_state=42,stratify=y_sd)\n",
    "\n",
    "# %%"
   ]
  },
  {
   "cell_type": "code",
   "execution_count": null,
   "id": "fbba2ef8-adbc-4451-8fde-0aceda1f8528",
   "metadata": {
    "collapsed": true,
    "jupyter": {
     "outputs_hidden": true
    },
    "tags": []
   },
   "outputs": [],
   "source": [
    "time_xlr=datetime.now()\n",
    "adhoc_score_xlr = adhoc_svc.score(xlr_eval, y_xlr_eval)\n",
    "\n",
    "print(f\"Callable kernel classification test score XLR: {adhoc_score_xlr}\")\n",
    "print('tempo di esecuzione valutazione xlr:',datetime.now()-time_xlr)\n"
   ]
  },
  {
   "cell_type": "code",
   "execution_count": null,
   "id": "437fbc67",
   "metadata": {},
   "outputs": [],
   "source": [
    "bk = {}\n",
    "for k in dir():\n",
    "    obj = globals()[k]\n",
    "    if is_picklable(obj):\n",
    "        try:\n",
    "            bk.update({k: obj})\n",
    "        except TypeError:\n",
    "            pass\n",
    "\n",
    "# to save session\n",
    "with open('./After_classification_xlr_500pt_bk.pkl', 'wb') as f2:\n",
    "    pickle.dump(bk, f2)\n"
   ]
  },
  {
   "cell_type": "markdown",
   "id": "fefd8971-1250-4349-8b3e-a4a2e67681f7",
   "metadata": {},
   "source": [
    "### Figures"
   ]
  },
  {
   "cell_type": "code",
   "execution_count": null,
   "id": "c0796bc2-249d-4bf5-8c48-039fef3612ac",
   "metadata": {},
   "outputs": [],
   "source": [
    "import matplotlib.pyplot as plt\n",
    "def make_meshgrid(x, y, h=0.3):\n",
    "    x_min, x_max = x.min() - 1, x.max() + 1\n",
    "    y_min, y_max = y.min() - 1, y.max() + 1\n",
    "    xx, yy = np.meshgrid(np.arange(x_min, x_max, h), np.arange(y_min, y_max, h))\n",
    "    return xx, yy\n",
    "\n",
    "def plot_contours(ax, clf, xx, yy, **params):\n",
    "    Z = clf.predict(np.c_[xx.ravel(), yy.ravel()])\n",
    "    Z = Z.reshape(xx.shape)\n",
    "    out = ax.contourf(xx, yy, Z, **params)\n",
    "    return out, Z\n",
    "\n",
    "\n",
    "fig, ax = plt.subplots()\n",
    "# title for the plots\n",
    "title = ('Decision surface Quantum SVC ZZ feature map')\n",
    "# Set-up grid for plotting.\n",
    "X0, X1 = xlr_eval[:, 0], xlr_eval[:, 1]\n",
    "xx, yy = make_meshgrid(X0, X1)\n",
    "\n",
    "#plot_contours(ax,adhoc_svc , xx, yy, cmap=plt.cm.coolwarm, alpha=0.8)\n",
    "Z = adhoc_svc.predict(np.c_[xx.ravel(), yy.ravel()])\n",
    "Z = Z.reshape(xx.shape)\n",
    "out = ax.contourf(xx, yy, Z,cmap=plt.cm.coolwarm, alpha=0.8)\n",
    "plt.colorbar(out)\n",
    "ax.scatter(X0, X1, c=y_xlr_eval, cmap=plt.cm.coolwarm, s=20, edgecolors='k')\n",
    "ax.set_ylabel('NRC_poolNorm ')\n",
    "ax.set_xlabel('meanCvg  ')\n",
    "ax.set_xticks(())\n",
    "ax.set_yticks(())\n",
    "ax.set_title(title)\n",
    "ax.legend()\n",
    "plt.show()\n",
    "plt.savefig('./decision_surface_ZZ_ftmap_500pt.png')"
   ]
  },
  {
   "cell_type": "code",
   "execution_count": null,
   "id": "1d20cac2",
   "metadata": {},
   "outputs": [],
   "source": [
    "bk = {}\n",
    "for k in dir():\n",
    "    obj = globals()[k]\n",
    "    if is_picklable(obj):\n",
    "        try:\n",
    "            bk.update({k: obj})\n",
    "        except TypeError:\n",
    "            pass\n",
    "\n",
    "# to save session\n",
    "with open('./After_fig_500pt_bk.pkl', 'wb') as f2:\n",
    "    pickle.dump(bk, f2)\n"
   ]
  },
  {
   "cell_type": "markdown",
   "id": "98749ae8",
   "metadata": {},
   "source": [
    "## Quantum  SVM with QSVM"
   ]
  },
  {
   "cell_type": "markdown",
   "id": "c2b539d1-63bb-47b8-974b-32de760d2b40",
   "metadata": {},
   "source": [
    "from qiskit.aqua.algorithms import QSVM\n",
    "from qiskit.aqua.components.multiclass_extensions import AllPairs\n",
    "\n",
    "svm = QSVM(feature_map,X_train_scaled,xlr_eval,\n",
    "          multiclass_extension=AllPairs())\n",
    "\n",
    "result = svm.run(quantum_instance)\n",
    "for k,v in result.items():\n",
    "    print(\"'{}' : {}\".format(k, v))"
   ]
  }
 ],
 "metadata": {
  "interpreter": {
   "hash": "df2b9c9b73abddce152811ebaba48162e98096966bb321a6813e89f56a9c89e4"
  },
  "kernelspec": {
   "display_name": "Python 3.8.12 ('daism': conda)",
   "language": "python",
   "name": "python3"
  },
  "language_info": {
   "codemirror_mode": {
    "name": "ipython",
    "version": 3
   },
   "file_extension": ".py",
   "mimetype": "text/x-python",
   "name": "python",
   "nbconvert_exporter": "python",
   "pygments_lexer": "ipython3",
   "version": "3.8.12"
  },
  "widgets": {
   "application/vnd.jupyter.widget-state+json": {
    "state": {},
    "version_major": 2,
    "version_minor": 0
   }
  }
 },
 "nbformat": 4,
 "nbformat_minor": 5
}
